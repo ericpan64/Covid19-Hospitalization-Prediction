{
 "cells": [
  {
   "cell_type": "markdown",
   "metadata": {},
   "source": [
    "## How to run this notebook\n",
    "\n",
    "1. Download the docker image: `docker pull jupyter/pyspark-notebook`\n",
    "\n",
    "2. Make sure you have the input data containing the UMLS IDs for each titles obtained from running `get_ids_from_abs.py`: `umls_cui_in_titles.txt`\n",
    " \n",
    "3. Start the PySpark jupyter notebook by running the docker and mount the volume of where the data\n",
    "   - `docker run -it -p 8888:8888 -v /Users/slin/covid_nlp/title_result:/mnt/result jupyter/pyspark-notebook`\n",
    "\n",
    "4. Go to `http://localhost:8888` in a browser. It'd ask for a token and a password. Token can be found in the console running the notebook. password can be anything.\n",
    "\n",
    "5. Import this file into Docker container.\n",
    "\n",
    "see more instruction here https://levelup.gitconnected.com/using-docker-and-pyspark-134cd4cab867"
   ]
  },
  {
   "cell_type": "code",
   "execution_count": 180,
   "metadata": {},
   "outputs": [
    {
     "data": {
      "text/plain": [
       "['100k_200k',\n",
       " '1_100k',\n",
       " '200k_345k',\n",
       " 'concept_counts',\n",
       " 'concept_map',\n",
       " 'count',\n",
       " 'count_sorted',\n",
       " 'umls_cui_in_titles.txt']"
      ]
     },
     "execution_count": 180,
     "metadata": {},
     "output_type": "execute_result"
    }
   ],
   "source": [
    "import os\n",
    "os.listdir('/mnt/result') "
   ]
  },
  {
   "cell_type": "code",
   "execution_count": 146,
   "metadata": {},
   "outputs": [],
   "source": [
    "import pandas as pd \n",
    "import numpy\n",
    "import matplotlib.pyplot as plt \n",
    "from pyspark.sql import SparkSession\n",
    "from pyspark import SparkContext, SparkConf"
   ]
  },
  {
   "cell_type": "code",
   "execution_count": null,
   "metadata": {},
   "outputs": [],
   "source": [
    "sc = SparkContext(\"local\",\"Find number of occurrences of concepts\")"
   ]
  },
  {
   "cell_type": "code",
   "execution_count": 179,
   "metadata": {},
   "outputs": [],
   "source": [
    "# filename \"all\" is the file name where each line is the umls present in a title. there are ~138k titles\n",
    "words = sc.textFile(\"/mnt/result/umls_cui_in_titles.txt\").flatMap(lambda line: line.split(\",\"))"
   ]
  },
  {
   "cell_type": "code",
   "execution_count": 150,
   "metadata": {},
   "outputs": [
    {
     "data": {
      "text/plain": [
       "['C3714514', 'C0948075', 'C2242472', 'C0009450', 'C0699744']"
      ]
     },
     "execution_count": 150,
     "metadata": {},
     "output_type": "execute_result"
    }
   ],
   "source": [
    "words.take(5)"
   ]
  },
  {
   "cell_type": "code",
   "execution_count": 151,
   "metadata": {},
   "outputs": [],
   "source": [
    "wordCounts = words.map(lambda word: (word, 1)).reduceByKey(lambda a,b:a +b)"
   ]
  },
  {
   "cell_type": "code",
   "execution_count": 152,
   "metadata": {},
   "outputs": [
    {
     "data": {
      "text/plain": [
       "[('C3714514', 12513)]"
      ]
     },
     "execution_count": 152,
     "metadata": {},
     "output_type": "execute_result"
    }
   ],
   "source": [
    "wordCounts.take(1)"
   ]
  },
  {
   "cell_type": "code",
   "execution_count": 19,
   "metadata": {},
   "outputs": [],
   "source": [
    "wordCounts.saveAsTextFile(\"/mnt/result/count\") # saving intermediate file"
   ]
  },
  {
   "cell_type": "code",
   "execution_count": 153,
   "metadata": {},
   "outputs": [
    {
     "data": {
      "text/plain": [
       "PythonRDD[284] at RDD at PythonRDD.scala:53"
      ]
     },
     "execution_count": 153,
     "metadata": {},
     "output_type": "execute_result"
    }
   ],
   "source": [
    "wordCounts"
   ]
  },
  {
   "cell_type": "code",
   "execution_count": 157,
   "metadata": {},
   "outputs": [],
   "source": [
    "# sort the result just to get an idea\n",
    "counts_sorted = wordCounts.sortBy(lambda item: item[1], ascending=False)\n",
    "counts_sorted.saveAsTextFile(\"/mnt/result/count_sorted\")\n"
   ]
  },
  {
   "cell_type": "code",
   "execution_count": 158,
   "metadata": {},
   "outputs": [
    {
     "data": {
      "text/plain": [
       "[('C0009450', 13686),\n",
       " ('C0042769', 13094),\n",
       " ('C3714514', 12513),\n",
       " ('C0206419', 12111),\n",
       " ('C0948075', 11369),\n",
       " ('C0010078', 11191),\n",
       " ('C0206423', 10145),\n",
       " ('C1550587', 9993),\n",
       " ('C1556682', 9782),\n",
       " ('C1175743', 7511)]"
      ]
     },
     "execution_count": 158,
     "metadata": {},
     "output_type": "execute_result"
    }
   ],
   "source": [
    "counts_sorted.take(10)"
   ]
  },
  {
   "cell_type": "markdown",
   "metadata": {},
   "source": [
    "These are the top ten entries in the file\n",
    "where C0009450 means \"communicable diseases\", and C0042769 means \"virus disease\". Make sense. "
   ]
  },
  {
   "cell_type": "code",
   "execution_count": 159,
   "metadata": {},
   "outputs": [],
   "source": [
    "concept_maps = sc.textFile(\"/mnt/result/concept_map\").map(lambda line: line.split(\",\"))"
   ]
  },
  {
   "cell_type": "code",
   "execution_count": 160,
   "metadata": {},
   "outputs": [
    {
     "data": {
      "text/plain": [
       "[['22274', 'C0027651', 'C2981607', 'C1882062', 'C1368871', 'C0026640']]"
      ]
     },
     "execution_count": 160,
     "metadata": {},
     "output_type": "execute_result"
    }
   ],
   "source": [
    "concept_maps.take(1)"
   ]
  },
  {
   "cell_type": "markdown",
   "metadata": {},
   "source": [
    "In this file, each concept id contains many related CUI (strings that start with \"C\"). Based on the counts of CUIs (wordCounts), we need to use that information to obtain the counts for each concept ids.\n",
    "Since it's not a 1-to-1 relationship, and that some concept ids might contain CUI(s) that are in multiple concepts, the best data structure I can think of is map of CUI to list of concept ids. We'd use another map to keep count of the concepts. "
   ]
  },
  {
   "cell_type": "code",
   "execution_count": 161,
   "metadata": {},
   "outputs": [],
   "source": [
    "# convert from ['22274', 'C0027651', 'C2981607', 'C1882062', 'C1368871', 'C0026640'] to \n",
    "# RDD [('22274', 'C0027651'), ('22274', 'C2981607'), ...]\n",
    "\n",
    "concept_maps = concept_maps.map(lambda line: (line[0], line[1:]))\n",
    "    "
   ]
  },
  {
   "cell_type": "code",
   "execution_count": 162,
   "metadata": {},
   "outputs": [
    {
     "data": {
      "text/plain": [
       "[('22274', ['C0027651', 'C2981607', 'C1882062', 'C1368871', 'C0026640'])]"
      ]
     },
     "execution_count": 162,
     "metadata": {},
     "output_type": "execute_result"
    }
   ],
   "source": [
    "concept_maps.take(1)"
   ]
  },
  {
   "cell_type": "code",
   "execution_count": 163,
   "metadata": {},
   "outputs": [],
   "source": [
    "def convert_to_tuple_list(input):\n",
    "    concept_id = input[0]\n",
    "    return [(cui, concept_id) for cui in input[1]]\n",
    "concept_rdd = concept_maps.flatMap(lambda entry: convert_to_tuple_list(entry))"
   ]
  },
  {
   "cell_type": "code",
   "execution_count": 164,
   "metadata": {},
   "outputs": [
    {
     "data": {
      "text/plain": [
       "[('C0027651', '22274'),\n",
       " ('C2981607', '22274'),\n",
       " ('C1882062', '22274'),\n",
       " ('C1368871', '22274'),\n",
       " ('C0026640', '22274'),\n",
       " ('C0002895', '22281'),\n",
       " ('C2699300', '22281'),\n",
       " ('C1260595', '22281'),\n",
       " ('C0750151', '22281'),\n",
       " ('C3273373', '22281')]"
      ]
     },
     "execution_count": 164,
     "metadata": {},
     "output_type": "execute_result"
    }
   ],
   "source": [
    "concept_rdd.take(10)"
   ]
  },
  {
   "cell_type": "code",
   "execution_count": 165,
   "metadata": {},
   "outputs": [
    {
     "data": {
      "text/plain": [
       "[('C3714514', 12513),\n",
       " ('C0948075', 11369),\n",
       " ('C2242472', 1540),\n",
       " ('C0009450', 13686),\n",
       " ('C0699744', 1634),\n",
       " ('C3810607', 271),\n",
       " ('C0028128', 287),\n",
       " ('C0028215', 221),\n",
       " ('C0600437', 199),\n",
       " ('C2610645', 199)]"
      ]
     },
     "execution_count": 165,
     "metadata": {},
     "output_type": "execute_result"
    }
   ],
   "source": [
    "wordCounts.take(10)"
   ]
  },
  {
   "cell_type": "code",
   "execution_count": 166,
   "metadata": {},
   "outputs": [
    {
     "data": {
      "text/plain": [
       "[('C2981607', ('22274', 6)), ('C2981607', ('24602', 6))]"
      ]
     },
     "execution_count": 166,
     "metadata": {},
     "output_type": "execute_result"
    }
   ],
   "source": [
    "joined_result = concept_rdd.join(wordCounts)\n",
    "joined_result.take(2)"
   ]
  },
  {
   "cell_type": "code",
   "execution_count": 169,
   "metadata": {},
   "outputs": [
    {
     "data": {
      "text/plain": [
       "[('997899', 4), ('997898', 4)]"
      ]
     },
     "execution_count": 169,
     "metadata": {},
     "output_type": "execute_result"
    }
   ],
   "source": [
    "joined_result = joined_result.map(lambda x: x[1])\n",
    "joined_result = joined_result.groupByKey().mapValues(sum)\n",
    "joined_result.take(2)"
   ]
  },
  {
   "cell_type": "code",
   "execution_count": 170,
   "metadata": {},
   "outputs": [],
   "source": [
    "# save the sorted result\n",
    "joined_result = joined_result.sortBy(lambda item: item[1], ascending=False)\n",
    "joined_result.saveAsTextFile(\"/mnt/result/concept_counts\")"
   ]
  },
  {
   "cell_type": "code",
   "execution_count": 171,
   "metadata": {},
   "outputs": [
    {
     "data": {
      "text/plain": [
       "9006"
      ]
     },
     "execution_count": 171,
     "metadata": {},
     "output_type": "execute_result"
    }
   ],
   "source": [
    "joined_result.count()"
   ]
  },
  {
   "cell_type": "code",
   "execution_count": 181,
   "metadata": {},
   "outputs": [
    {
     "data": {
      "text/plain": [
       "([1.0,\n",
       "  2926.35,\n",
       "  5851.7,\n",
       "  8777.05,\n",
       "  11702.4,\n",
       "  14627.75,\n",
       "  17553.1,\n",
       "  20478.45,\n",
       "  23403.8,\n",
       "  26329.149999999998,\n",
       "  29254.5,\n",
       "  32179.85,\n",
       "  35105.2,\n",
       "  38030.549999999996,\n",
       "  40955.9,\n",
       "  43881.25,\n",
       "  46806.6,\n",
       "  49731.95,\n",
       "  52657.299999999996,\n",
       "  55582.65,\n",
       "  58508],\n",
       " [8429, 400, 30, 47, 10, 7, 2, 25, 2, 0, 9, 1, 1, 2, 0, 0, 0, 0, 0, 41])"
      ]
     },
     "execution_count": 181,
     "metadata": {},
     "output_type": "execute_result"
    }
   ],
   "source": [
    "# this show that if we divide up the counts into 20 buckets, most of them are in the first buckets.\n",
    "joined_result.map(lambda x: x[1]).histogram(20) "
   ]
  },
  {
   "cell_type": "markdown",
   "metadata": {},
   "source": [
    "### Testing ground\n",
    "Below are sandbox for me to test out whether the code would work as expected. Feel free to ignore :)"
   ]
  },
  {
   "cell_type": "code",
   "execution_count": 140,
   "metadata": {},
   "outputs": [
    {
     "data": {
      "text/plain": [
       "[('cui_a', ('cpt1', 2)), ('cui_a', ('cpt2', 2)), ('cui_b', ('cpt1', 3))]"
      ]
     },
     "execution_count": 140,
     "metadata": {},
     "output_type": "execute_result"
    }
   ],
   "source": [
    "x = sc.parallelize([(\"cui_a\", 'cpt1'), (\"cui_b\", 'cpt1'), (\"cui_a\", 'cpt2')])  # like `concept_rdd` (umls_cui, concept_id)\n",
    "y = sc.parallelize([(\"cui_a\", 2), (\"cui_b\", 3), (\"cui_c\", 5)]) # like `wordCounts` (umls_cui, count)\n",
    "z = x.join(y)\n",
    "z.collect()"
   ]
  },
  {
   "cell_type": "code",
   "execution_count": 141,
   "metadata": {},
   "outputs": [
    {
     "data": {
      "text/plain": [
       "[('cpt1', 2), ('cpt2', 2), ('cpt1', 3)]"
      ]
     },
     "execution_count": 141,
     "metadata": {},
     "output_type": "execute_result"
    }
   ],
   "source": [
    "temp = z.map(lambda x: x[1])\n",
    "temp.collect()"
   ]
  },
  {
   "cell_type": "code",
   "execution_count": 142,
   "metadata": {},
   "outputs": [
    {
     "data": {
      "text/plain": [
       "[('cpt1', 5), ('cpt2', 2)]"
      ]
     },
     "execution_count": 142,
     "metadata": {},
     "output_type": "execute_result"
    }
   ],
   "source": [
    "aggregated_counts = temp.groupByKey().mapValues(sum)\n",
    "aggregated_counts.collect()"
   ]
  },
  {
   "cell_type": "code",
   "execution_count": null,
   "metadata": {},
   "outputs": [],
   "source": []
  }
 ],
 "metadata": {
  "kernelspec": {
   "display_name": "Python 3",
   "language": "python",
   "name": "python3"
  },
  "language_info": {
   "codemirror_mode": {
    "name": "ipython",
    "version": 3
   },
   "file_extension": ".py",
   "mimetype": "text/x-python",
   "name": "python",
   "nbconvert_exporter": "python",
   "pygments_lexer": "ipython3",
   "version": "3.8.6"
  }
 },
 "nbformat": 4,
 "nbformat_minor": 4
}
