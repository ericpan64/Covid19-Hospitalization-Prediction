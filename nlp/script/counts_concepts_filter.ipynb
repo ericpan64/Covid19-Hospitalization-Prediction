{
 "cells": [
  {
   "cell_type": "markdown",
   "metadata": {},
   "source": [
    "## How to run this notebook\n",
    "\n",
    "1. Download the docker image: `docker pull jupyter/pyspark-notebook`\n",
    "\n",
    "2. Make sure you have the input data containing the UMLS IDs for each titles obtained from running `get_ids_from_abs.py`: `umls_cui_in_titles.txt`\n",
    " \n",
    "3. Start the PySpark jupyter notebook by running the docker and mount the volume of where the data\n",
    "   - `docker run -it -p 8888:8888 -v /Users/slin/covid_nlp/title_result:/mnt/result jupyter/pyspark-notebook`\n",
    "\n",
    "4. Go to `http://localhost:8888` in a browser. It'd ask for a token and a password. Token can be found in the console running the notebook. password can be anything.\n",
    "\n",
    "5. Import this file into Docker container.\n",
    "\n",
    "see more instruction here https://levelup.gitconnected.com/using-docker-and-pyspark-134cd4cab867"
   ]
  },
  {
   "cell_type": "code",
   "execution_count": 1,
   "metadata": {},
   "outputs": [
    {
     "data": {
      "text/plain": [
       "['100k_200k',\n",
       " '1_100k',\n",
       " '200k_345k',\n",
       " 'concept_counts',\n",
       " 'concept_map',\n",
       " 'count',\n",
       " 'count_sorted',\n",
       " 'umls_cui_in_titles.txt']"
      ]
     },
     "execution_count": 1,
     "metadata": {},
     "output_type": "execute_result"
    }
   ],
   "source": [
    "import os\n",
    "os.listdir('/mnt/result') "
   ]
  },
  {
   "cell_type": "code",
   "execution_count": 2,
   "metadata": {},
   "outputs": [],
   "source": [
    "import pandas as pd \n",
    "import numpy\n",
    "import matplotlib.pyplot as plt \n",
    "from pyspark.sql import SparkSession\n",
    "from pyspark import SparkContext, SparkConf"
   ]
  },
  {
   "cell_type": "code",
   "execution_count": 3,
   "metadata": {},
   "outputs": [],
   "source": [
    "sc = SparkContext(\"local\",\"Find number of occurrences of concepts\")"
   ]
  },
  {
   "cell_type": "markdown",
   "metadata": {},
   "source": [
    "### Step 1  - Get the UMLS counts in ALL titles"
   ]
  },
  {
   "cell_type": "code",
   "execution_count": 4,
   "metadata": {},
   "outputs": [],
   "source": [
    "# filename \"all\" is the file name where each line is the umls present in a title. there are ~138k titles\n",
    "words = sc.textFile(\"/mnt/result/umls_cui_in_titles.txt\").flatMap(lambda line: line.split(\",\"))"
   ]
  },
  {
   "cell_type": "code",
   "execution_count": 5,
   "metadata": {},
   "outputs": [
    {
     "data": {
      "text/plain": [
       "['C3714514', 'C0948075', 'C2242472', 'C0009450', 'C0699744']"
      ]
     },
     "execution_count": 5,
     "metadata": {},
     "output_type": "execute_result"
    }
   ],
   "source": [
    "words.take(5)"
   ]
  },
  {
   "cell_type": "code",
   "execution_count": 6,
   "metadata": {},
   "outputs": [],
   "source": [
    "wordCounts = words.map(lambda word: (word, 1)).reduceByKey(lambda a,b:a +b)"
   ]
  },
  {
   "cell_type": "code",
   "execution_count": 7,
   "metadata": {},
   "outputs": [
    {
     "data": {
      "text/plain": [
       "[('C3714514', 12513)]"
      ]
     },
     "execution_count": 7,
     "metadata": {},
     "output_type": "execute_result"
    }
   ],
   "source": [
    "wordCounts.take(1)"
   ]
  },
  {
   "cell_type": "code",
   "execution_count": 153,
   "metadata": {},
   "outputs": [
    {
     "data": {
      "text/plain": [
       "PythonRDD[284] at RDD at PythonRDD.scala:53"
      ]
     },
     "execution_count": 153,
     "metadata": {},
     "output_type": "execute_result"
    }
   ],
   "source": [
    "wordCounts"
   ]
  },
  {
   "cell_type": "code",
   "execution_count": 8,
   "metadata": {},
   "outputs": [],
   "source": [
    "# sort the result just to get an idea\n",
    "counts_sorted = wordCounts.sortBy(lambda item: item[1], ascending=False)\n",
    "# counts_sorted.saveAsTextFile(\"/mnt/result/count_sorted\")"
   ]
  },
  {
   "cell_type": "code",
   "execution_count": 9,
   "metadata": {},
   "outputs": [
    {
     "data": {
      "text/plain": [
       "[('C0009450', 13686),\n",
       " ('C0042769', 13094),\n",
       " ('C3714514', 12513),\n",
       " ('C0206419', 12111),\n",
       " ('C0948075', 11369),\n",
       " ('C0010078', 11191),\n",
       " ('C0206423', 10145),\n",
       " ('C1550587', 9993),\n",
       " ('C1556682', 9782),\n",
       " ('C1175743', 7511)]"
      ]
     },
     "execution_count": 9,
     "metadata": {},
     "output_type": "execute_result"
    }
   ],
   "source": [
    "counts_sorted.take(10)"
   ]
  },
  {
   "cell_type": "markdown",
   "metadata": {},
   "source": [
    "These are the top ten entries in the file\n",
    "where C0009450 means \"communicable diseases\", and C0042769 means \"virus disease\". Make sense. "
   ]
  },
  {
   "cell_type": "markdown",
   "metadata": {},
   "source": [
    "### Step 2 - make a map of the concept name to concept ids"
   ]
  },
  {
   "cell_type": "code",
   "execution_count": 53,
   "metadata": {},
   "outputs": [],
   "source": [
    "concept_maps = sc.textFile(\"/mnt/result/concept_map\").map(lambda line: line.split(\",\"))"
   ]
  },
  {
   "cell_type": "code",
   "execution_count": 54,
   "metadata": {},
   "outputs": [
    {
     "data": {
      "text/plain": [
       "[['22274', 'C0027651', 'C2981607', 'C1882062', 'C1368871', 'C0026640']]"
      ]
     },
     "execution_count": 54,
     "metadata": {},
     "output_type": "execute_result"
    }
   ],
   "source": [
    "concept_maps.take(1)"
   ]
  },
  {
   "cell_type": "markdown",
   "metadata": {},
   "source": [
    "In this file, each concept id contains many related CUI (strings that start with \"C\"). Based on the counts of CUIs (wordCounts), we need to use that information to obtain the counts for each concept ids.\n",
    "Since it's not a 1-to-1 relationship, and that some concept ids might contain CUI(s) that are in multiple concepts, the best data structure I can think of is map of CUI to list of concept ids. We'd use another map to keep count of the concepts. "
   ]
  },
  {
   "cell_type": "code",
   "execution_count": 55,
   "metadata": {},
   "outputs": [],
   "source": [
    "# convert from ['22274', 'C0027651', 'C2981607', 'C1882062', 'C1368871', 'C0026640'] to \n",
    "# RDD [('22274', 'C0027651'), ('22274', 'C2981607'), ...]\n",
    "\n",
    "concept_maps = concept_maps.map(lambda line: (line[0], line[1:]))\n",
    "    "
   ]
  },
  {
   "cell_type": "code",
   "execution_count": 56,
   "metadata": {},
   "outputs": [
    {
     "data": {
      "text/plain": [
       "[('22274', ['C0027651', 'C2981607', 'C1882062', 'C1368871', 'C0026640'])]"
      ]
     },
     "execution_count": 56,
     "metadata": {},
     "output_type": "execute_result"
    }
   ],
   "source": [
    "concept_maps.take(1)"
   ]
  },
  {
   "cell_type": "code",
   "execution_count": 71,
   "metadata": {},
   "outputs": [],
   "source": [
    "def convert_to_tuple_list(input):\n",
    "    concept_id = input[0]\n",
    "    return [(cui, concept_id) for cui in input[1]]\n",
    "ulms_concept_rdd = concept_maps.flatMap(lambda entry: convert_to_tuple_list(entry))"
   ]
  },
  {
   "cell_type": "code",
   "execution_count": 72,
   "metadata": {},
   "outputs": [
    {
     "data": {
      "text/plain": [
       "[('C0027651', '22274'),\n",
       " ('C2981607', '22274'),\n",
       " ('C1882062', '22274'),\n",
       " ('C1368871', '22274'),\n",
       " ('C0026640', '22274'),\n",
       " ('C0002895', '22281'),\n",
       " ('C2699300', '22281'),\n",
       " ('C1260595', '22281'),\n",
       " ('C0750151', '22281'),\n",
       " ('C3273373', '22281')]"
      ]
     },
     "execution_count": 72,
     "metadata": {},
     "output_type": "execute_result"
    }
   ],
   "source": [
    "ulms_concept_rdd.take(10)"
   ]
  },
  {
   "cell_type": "markdown",
   "metadata": {},
   "source": [
    "## Filter out UMLS that appear in too many concept names\n",
    "They are umls unspecific to each concept. So we'll filter those out. For example, many concept names contain the word \"infection\" for different body parts and causes.\n"
   ]
  },
  {
   "cell_type": "code",
   "execution_count": 76,
   "metadata": {},
   "outputs": [],
   "source": [
    "# First count the occurrence of each UMLS term in the concept names and make a new map\n",
    "umls_count = ulms_concept_rdd.map(lambda x: (x[0], 1)).reduceByKey(lambda a,b:a +b).sortBy(lambda item: item[1], ascending=False)"
   ]
  },
  {
   "cell_type": "code",
   "execution_count": 77,
   "metadata": {},
   "outputs": [
    {
     "data": {
      "text/plain": [
       "[('C0016658', 618),\n",
       " ('C1963113', 617),\n",
       " ('C1880851', 617),\n",
       " ('C0016662', 616),\n",
       " ('C1160964', 613),\n",
       " ('C1306459', 244),\n",
       " ('C0560267', 174),\n",
       " ('C0024620', 153),\n",
       " ('C3263723', 125),\n",
       " ('C0027651', 117)]"
      ]
     },
     "execution_count": 77,
     "metadata": {},
     "output_type": "execute_result"
    }
   ],
   "source": [
    "umls_count.take(10)"
   ]
  },
  {
   "cell_type": "code",
   "execution_count": 78,
   "metadata": {},
   "outputs": [
    {
     "data": {
      "text/plain": [
       "11054"
      ]
     },
     "execution_count": 78,
     "metadata": {},
     "output_type": "execute_result"
    }
   ],
   "source": [
    "umls_count.count()"
   ]
  },
  {
   "cell_type": "code",
   "execution_count": 80,
   "metadata": {},
   "outputs": [
    {
     "data": {
      "text/plain": [
       "([1.0,\n",
       "  31.85,\n",
       "  62.7,\n",
       "  93.55000000000001,\n",
       "  124.4,\n",
       "  155.25,\n",
       "  186.10000000000002,\n",
       "  216.95000000000002,\n",
       "  247.8,\n",
       "  278.65000000000003,\n",
       "  309.5,\n",
       "  340.35,\n",
       "  371.20000000000005,\n",
       "  402.05,\n",
       "  432.90000000000003,\n",
       "  463.75,\n",
       "  494.6,\n",
       "  525.45,\n",
       "  556.3000000000001,\n",
       "  587.15,\n",
       "  618],\n",
       " [10958, 70, 14, 3, 2, 1, 0, 1, 0, 0, 0, 0, 0, 0, 0, 0, 0, 0, 0, 5])"
      ]
     },
     "execution_count": 80,
     "metadata": {},
     "output_type": "execute_result"
    }
   ],
   "source": [
    "# see the distribution of the counts if the counts were divided up by 20 regions\n",
    "umls_count.map(lambda x: x[1]).histogram(20)"
   ]
  },
  {
   "cell_type": "code",
   "execution_count": 81,
   "metadata": {},
   "outputs": [
    {
     "data": {
      "text/plain": [
       "5251"
      ]
     },
     "execution_count": 81,
     "metadata": {},
     "output_type": "execute_result"
    }
   ],
   "source": [
    "# Make a map of those we need to filter out. Let's be aggressive and filter out those appaer in more than 1 concept\n",
    "umls_count_filter = umls_count.filter(lambda x: x[1] > 1)\n",
    "umls_count_filter.count()"
   ]
  },
  {
   "cell_type": "code",
   "execution_count": 82,
   "metadata": {},
   "outputs": [],
   "source": [
    "umls_count_filter_set = set(concept_count_filter.map(lambda x: x[0]).collect())"
   ]
  },
  {
   "cell_type": "code",
   "execution_count": 84,
   "metadata": {},
   "outputs": [
    {
     "data": {
      "text/plain": [
       "[('C2699300', '22281'), ('C1260595', '22281')]"
      ]
     },
     "execution_count": 84,
     "metadata": {},
     "output_type": "execute_result"
    }
   ],
   "source": [
    "# Filter out those that are in >1 concept names\n",
    "ulms_concept_rdd_filtered = ulms_concept_rdd.filter(lambda x: x[0] not in concept_count_filter_set)\n",
    "ulms_concept_rdd_filtered.take(2)"
   ]
  },
  {
   "cell_type": "code",
   "execution_count": 85,
   "metadata": {},
   "outputs": [
    {
     "data": {
      "text/plain": [
       "[('C2699300', ('22281', 6)), ('C1260595', ('22281', 6))]"
      ]
     },
     "execution_count": 85,
     "metadata": {},
     "output_type": "execute_result"
    }
   ],
   "source": [
    "# join UMLS count from titles with this filtered result, key being the UMLS terms\n",
    "joined_result = ulms_concept_rdd_filtered.join(wordCounts)\n",
    "joined_result.take(2) # each item: (UMLS ID, (concept ID, count of UMLS ID from all titles))"
   ]
  },
  {
   "cell_type": "code",
   "execution_count": 87,
   "metadata": {},
   "outputs": [],
   "source": [
    "# sum the counts of UMLS occurences in titles across all the concept IDs\n",
    "joined_result = joined_result.map(lambda x: x[1])\n",
    "joined_result = joined_result.groupByKey().mapValues(sum)\n",
    "joined_result = joined_result.sortBy(lambda item: item[1], ascending=False)"
   ]
  },
  {
   "cell_type": "code",
   "execution_count": 88,
   "metadata": {},
   "outputs": [
    {
     "data": {
      "text/plain": [
       "[('1792515', 3905),\n",
       " ('3034780', 2907),\n",
       " ('440022', 2281),\n",
       " ('44507566', 1880),\n",
       " ('2617205', 1364),\n",
       " ('198677', 1339),\n",
       " ('2514534', 1189),\n",
       " ('433131', 1188),\n",
       " ('432436', 1003),\n",
       " ('4275257', 927)]"
      ]
     },
     "execution_count": 88,
     "metadata": {},
     "output_type": "execute_result"
    }
   ],
   "source": [
    "joined_result.take(10)"
   ]
  },
  {
   "cell_type": "code",
   "execution_count": 90,
   "metadata": {},
   "outputs": [
    {
     "data": {
      "text/plain": [
       "1470"
      ]
     },
     "execution_count": 90,
     "metadata": {},
     "output_type": "execute_result"
    }
   ],
   "source": [
    "joined_result.count()# this is how many potential features we can use, though we probably only use the top few ones."
   ]
  },
  {
   "cell_type": "code",
   "execution_count": 91,
   "metadata": {},
   "outputs": [
    {
     "data": {
      "text/plain": [
       "39717"
      ]
     },
     "execution_count": 91,
     "metadata": {},
     "output_type": "execute_result"
    }
   ],
   "source": [
    "ulms_concept_rdd.count() # this is how many features before we do filter"
   ]
  },
  {
   "cell_type": "code",
   "execution_count": 89,
   "metadata": {},
   "outputs": [],
   "source": [
    "# save to a file to be used later in our model trainnig \n",
    "joined_result.saveAsTextFile(\"/mnt/result/concept_counts_filtered1\")"
   ]
  }
 ],
 "metadata": {
  "kernelspec": {
   "display_name": "Python 3",
   "language": "python",
   "name": "python3"
  },
  "language_info": {
   "codemirror_mode": {
    "name": "ipython",
    "version": 3
   },
   "file_extension": ".py",
   "mimetype": "text/x-python",
   "name": "python",
   "nbconvert_exporter": "python",
   "pygments_lexer": "ipython3",
   "version": "3.8.6"
  }
 },
 "nbformat": 4,
 "nbformat_minor": 4
}
