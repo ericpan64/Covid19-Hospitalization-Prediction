{
 "cells": [
  {
   "cell_type": "markdown",
   "metadata": {},
   "source": [
    "## How to run this notebook\n",
    "\n",
    "1. Download the docker image: `docker pull jupyter/pyspark-notebook`\n",
    "\n",
    "2. Make sure you have the input data containing the UMLS IDs for each titles obtained from running `get_ids_from_abs.py`: `umls_cui_in_titles.txt`\n",
    " \n",
    "3. Start the PySpark jupyter notebook by running the docker and mount the volume of where the data\n",
    "   - `docker run -it -p 8888:8888 -v /Users/slin/covid_nlp/title_result:/mnt/result jupyter/pyspark-notebook`\n",
    "\n",
    "4. Go to `http://localhost:8888` in a browser. It'd ask for a token and a password. Token can be found in the console running the notebook. password can be anything.\n",
    "\n",
    "5. Import this file into Docker container.\n",
    "\n",
    "see more instruction here https://levelup.gitconnected.com/using-docker-and-pyspark-134cd4cab867"
   ]
  },
  {
   "cell_type": "code",
   "execution_count": 26,
   "metadata": {},
   "outputs": [
    {
     "data": {
      "text/plain": [
       "['100k_200k',\n",
       " '1_100k',\n",
       " '200k_345k',\n",
       " 'concept_counts',\n",
       " 'concept_counts_filtered1',\n",
       " 'concept_counts_filtered_abstracts',\n",
       " 'concept_map',\n",
       " 'count',\n",
       " 'count_sorted',\n",
       " 'umls_cui_in_abstracts.txt',\n",
       " 'umls_cui_in_titles.txt']"
      ]
     },
     "execution_count": 26,
     "metadata": {},
     "output_type": "execute_result"
    }
   ],
   "source": [
    "import os\n",
    "import math\n",
    "os.listdir('/mnt/result') "
   ]
  },
  {
   "cell_type": "code",
   "execution_count": 2,
   "metadata": {},
   "outputs": [],
   "source": [
    "import pandas as pd \n",
    "import numpy\n",
    "import matplotlib.pyplot as plt \n",
    "from pyspark.sql import SparkSession\n",
    "from pyspark import SparkContext, SparkConf"
   ]
  },
  {
   "cell_type": "code",
   "execution_count": 3,
   "metadata": {},
   "outputs": [],
   "source": [
    "sc = SparkContext(\"local\",\"Find number of occurrences of concepts\")"
   ]
  },
  {
   "cell_type": "markdown",
   "metadata": {},
   "source": [
    "### Step 1  - Get the UMLS counts in ALL titles"
   ]
  },
  {
   "cell_type": "code",
   "execution_count": 4,
   "metadata": {},
   "outputs": [],
   "source": [
    "# filename \"all\" is the file name where each line is the umls present in a title. there are ~138k titles\n",
    "words = sc.textFile(\"/mnt/result/umls_cui_in_titles.txt\").flatMap(lambda line: line.split(\",\"))"
   ]
  },
  {
   "cell_type": "code",
   "execution_count": 5,
   "metadata": {},
   "outputs": [
    {
     "data": {
      "text/plain": [
       "['C3714514', 'C0948075', 'C2242472', 'C0009450', 'C0699744']"
      ]
     },
     "execution_count": 5,
     "metadata": {},
     "output_type": "execute_result"
    }
   ],
   "source": [
    "words.take(5)"
   ]
  },
  {
   "cell_type": "code",
   "execution_count": 6,
   "metadata": {},
   "outputs": [],
   "source": [
    "wordCounts = words.map(lambda word: (word, 1)).reduceByKey(lambda a,b:a +b)"
   ]
  },
  {
   "cell_type": "code",
   "execution_count": 7,
   "metadata": {},
   "outputs": [
    {
     "data": {
      "text/plain": [
       "[('C3714514', 12513)]"
      ]
     },
     "execution_count": 7,
     "metadata": {},
     "output_type": "execute_result"
    }
   ],
   "source": [
    "wordCounts.take(1)"
   ]
  },
  {
   "cell_type": "code",
   "execution_count": 8,
   "metadata": {},
   "outputs": [
    {
     "data": {
      "text/plain": [
       "PythonRDD[8] at RDD at PythonRDD.scala:53"
      ]
     },
     "execution_count": 8,
     "metadata": {},
     "output_type": "execute_result"
    }
   ],
   "source": [
    "wordCounts"
   ]
  },
  {
   "cell_type": "code",
   "execution_count": 9,
   "metadata": {},
   "outputs": [],
   "source": [
    "# sort the result just to get an idea\n",
    "counts_sorted = wordCounts.sortBy(lambda item: item[1], ascending=False)\n",
    "# counts_sorted.saveAsTextFile(\"/mnt/result/count_sorted\")"
   ]
  },
  {
   "cell_type": "code",
   "execution_count": 10,
   "metadata": {},
   "outputs": [
    {
     "data": {
      "text/plain": [
       "[('C0009450', 13686),\n",
       " ('C0042769', 13094),\n",
       " ('C3714514', 12513),\n",
       " ('C0206419', 12111),\n",
       " ('C0948075', 11369),\n",
       " ('C0010078', 11191),\n",
       " ('C0206423', 10145),\n",
       " ('C1550587', 9993),\n",
       " ('C1556682', 9782),\n",
       " ('C1175743', 7511)]"
      ]
     },
     "execution_count": 10,
     "metadata": {},
     "output_type": "execute_result"
    }
   ],
   "source": [
    "counts_sorted.take(10)"
   ]
  },
  {
   "cell_type": "markdown",
   "metadata": {},
   "source": [
    "These are the top ten entries in the file\n",
    "where C0009450 means \"communicable diseases\", and C0042769 means \"virus disease\". Make sense. "
   ]
  },
  {
   "cell_type": "markdown",
   "metadata": {},
   "source": [
    "### Step 2 - make a map of the concept name to concept ids"
   ]
  },
  {
   "cell_type": "code",
   "execution_count": 11,
   "metadata": {},
   "outputs": [],
   "source": [
    "concept_maps = sc.textFile(\"/mnt/result/concept_map\").map(lambda line: line.split(\",\"))"
   ]
  },
  {
   "cell_type": "code",
   "execution_count": 12,
   "metadata": {},
   "outputs": [
    {
     "data": {
      "text/plain": [
       "[['22274', 'C0027651', 'C2981607', 'C1882062', 'C1368871', 'C0026640']]"
      ]
     },
     "execution_count": 12,
     "metadata": {},
     "output_type": "execute_result"
    }
   ],
   "source": [
    "concept_maps.take(1)"
   ]
  },
  {
   "cell_type": "markdown",
   "metadata": {},
   "source": [
    "In this file, each concept id contains many related CUI (strings that start with \"C\"). Based on the counts of CUIs (wordCounts), we need to use that information to obtain the counts for each concept ids.\n",
    "Since it's not a 1-to-1 relationship, and that some concept ids might contain CUI(s) that are in multiple concepts, the best data structure I can think of is map of CUI to list of concept ids. We'd use another map to keep count of the concepts. "
   ]
  },
  {
   "cell_type": "code",
   "execution_count": 13,
   "metadata": {},
   "outputs": [],
   "source": [
    "# convert from ['22274', 'C0027651', 'C2981607', 'C1882062', 'C1368871', 'C0026640'] to \n",
    "# RDD [('22274', 'C0027651'), ('22274', 'C2981607'), ...]\n",
    "\n",
    "concept_maps = concept_maps.map(lambda line: (line[0], line[1:]))\n",
    "    "
   ]
  },
  {
   "cell_type": "code",
   "execution_count": 14,
   "metadata": {},
   "outputs": [
    {
     "data": {
      "text/plain": [
       "[('22274', ['C0027651', 'C2981607', 'C1882062', 'C1368871', 'C0026640'])]"
      ]
     },
     "execution_count": 14,
     "metadata": {},
     "output_type": "execute_result"
    }
   ],
   "source": [
    "concept_maps.take(1)"
   ]
  },
  {
   "cell_type": "code",
   "execution_count": 25,
   "metadata": {},
   "outputs": [
    {
     "data": {
      "text/plain": [
       "10448"
      ]
     },
     "execution_count": 25,
     "metadata": {},
     "output_type": "execute_result"
    }
   ],
   "source": [
    "concept_maps.count()"
   ]
  },
  {
   "cell_type": "code",
   "execution_count": 15,
   "metadata": {},
   "outputs": [],
   "source": [
    "def convert_to_tuple_list(input):\n",
    "    concept_id = input[0]\n",
    "    return [(cui, concept_id) for cui in input[1]]\n",
    "ulms_concept_rdd = concept_maps.flatMap(lambda entry: convert_to_tuple_list(entry))"
   ]
  },
  {
   "cell_type": "code",
   "execution_count": 16,
   "metadata": {},
   "outputs": [
    {
     "data": {
      "text/plain": [
       "[('C0027651', '22274'),\n",
       " ('C2981607', '22274'),\n",
       " ('C1882062', '22274'),\n",
       " ('C1368871', '22274'),\n",
       " ('C0026640', '22274'),\n",
       " ('C0002895', '22281'),\n",
       " ('C2699300', '22281'),\n",
       " ('C1260595', '22281'),\n",
       " ('C0750151', '22281'),\n",
       " ('C3273373', '22281')]"
      ]
     },
     "execution_count": 16,
     "metadata": {},
     "output_type": "execute_result"
    }
   ],
   "source": [
    "ulms_concept_rdd.take(10)"
   ]
  },
  {
   "cell_type": "markdown",
   "metadata": {},
   "source": [
    "## Inspect UMLS appearing in multiple concept names\n",
    "For example, many concept names contain the word \"infection\" for different body parts and causes.\n"
   ]
  },
  {
   "cell_type": "code",
   "execution_count": 28,
   "metadata": {},
   "outputs": [],
   "source": [
    "# First count the occurrence of each UMLS term in the concept names and make a new map\n",
    "umls_count = ulms_concept_rdd.map(lambda x: (x[0], 1)).reduceByKey(lambda a,b:a +b).sortBy(lambda item: item[1], ascending=False)"
   ]
  },
  {
   "cell_type": "code",
   "execution_count": 29,
   "metadata": {},
   "outputs": [
    {
     "data": {
      "text/plain": [
       "[('C0016658', 618),\n",
       " ('C1963113', 617),\n",
       " ('C1880851', 617),\n",
       " ('C0016662', 616),\n",
       " ('C1160964', 613),\n",
       " ('C1306459', 244),\n",
       " ('C0560267', 174),\n",
       " ('C0024620', 153),\n",
       " ('C3263723', 125),\n",
       " ('C0027651', 117)]"
      ]
     },
     "execution_count": 29,
     "metadata": {},
     "output_type": "execute_result"
    }
   ],
   "source": [
    "umls_count.take(10) # some UMLS appear in more than ~600 concepts "
   ]
  },
  {
   "cell_type": "code",
   "execution_count": null,
   "metadata": {},
   "outputs": [],
   "source": []
  },
  {
   "cell_type": "code",
   "execution_count": 78,
   "metadata": {},
   "outputs": [
    {
     "data": {
      "text/plain": [
       "11054"
      ]
     },
     "execution_count": 78,
     "metadata": {},
     "output_type": "execute_result"
    }
   ],
   "source": [
    "umls_count.count()"
   ]
  },
  {
   "cell_type": "code",
   "execution_count": 80,
   "metadata": {},
   "outputs": [
    {
     "data": {
      "text/plain": [
       "([1.0,\n",
       "  31.85,\n",
       "  62.7,\n",
       "  93.55000000000001,\n",
       "  124.4,\n",
       "  155.25,\n",
       "  186.10000000000002,\n",
       "  216.95000000000002,\n",
       "  247.8,\n",
       "  278.65000000000003,\n",
       "  309.5,\n",
       "  340.35,\n",
       "  371.20000000000005,\n",
       "  402.05,\n",
       "  432.90000000000003,\n",
       "  463.75,\n",
       "  494.6,\n",
       "  525.45,\n",
       "  556.3000000000001,\n",
       "  587.15,\n",
       "  618],\n",
       " [10958, 70, 14, 3, 2, 1, 0, 1, 0, 0, 0, 0, 0, 0, 0, 0, 0, 0, 0, 5])"
      ]
     },
     "execution_count": 80,
     "metadata": {},
     "output_type": "execute_result"
    }
   ],
   "source": [
    "# see the distribution of the counts if the counts were divided up by 20 regions\n",
    "umls_count.map(lambda x: x[1]).histogram(20)"
   ]
  },
  {
   "cell_type": "markdown",
   "metadata": {},
   "source": [
    "# Use TF-IDF\n",
    "\n",
    "Calculate log(N/nt), where N is the total number of concepts and nt is the number of concepts the UMLS ID appear in."
   ]
  },
  {
   "cell_type": "code",
   "execution_count": 79,
   "metadata": {},
   "outputs": [],
   "source": [
    "joined_result = ulms_concept_rdd.join(wordCounts)"
   ]
  },
  {
   "cell_type": "code",
   "execution_count": 71,
   "metadata": {},
   "outputs": [
    {
     "data": {
      "text/plain": [
       "[('C2981607', ('22274', 6)),\n",
       " ('C2981607', ('24602', 6)),\n",
       " ('C2981607', ('27516', 6)),\n",
       " ('C2981607', ('27835', 6)),\n",
       " ('C2981607', ('30061', 6))]"
      ]
     },
     "execution_count": 71,
     "metadata": {},
     "output_type": "execute_result"
    }
   ],
   "source": [
    "joined_result.take(5) # these are the TF "
   ]
  },
  {
   "cell_type": "code",
   "execution_count": 90,
   "metadata": {},
   "outputs": [],
   "source": [
    "# Calculate IDF \n",
    "n_concepts = concept_maps.count()\n",
    "umls_idf = umls_count.map(lambda x: (x[0], math.log(n_concepts/x[1])))"
   ]
  },
  {
   "cell_type": "code",
   "execution_count": 91,
   "metadata": {},
   "outputs": [
    {
     "data": {
      "text/plain": [
       "[('C0016658', 2.8276773940585214),\n",
       " ('C1963113', 2.8292968276108246),\n",
       " ('C1880851', 2.8292968276108246),\n",
       " ('C0016662', 2.8309188879826928),\n",
       " ('C1160964', 2.835800915580001)]"
      ]
     },
     "execution_count": 91,
     "metadata": {},
     "output_type": "execute_result"
    }
   ],
   "source": [
    "umls_idf.take(5)"
   ]
  },
  {
   "cell_type": "code",
   "execution_count": 92,
   "metadata": {},
   "outputs": [],
   "source": [
    "# create a dictionary for each lookup\n",
    "idf_dict = dict(umls_idf.collect())"
   ]
  },
  {
   "cell_type": "code",
   "execution_count": 93,
   "metadata": {},
   "outputs": [
    {
     "data": {
      "text/plain": [
       "2.8276773940585214"
      ]
     },
     "execution_count": 93,
     "metadata": {},
     "output_type": "execute_result"
    }
   ],
   "source": [
    "idf_dict['C0016658']"
   ]
  },
  {
   "cell_type": "code",
   "execution_count": 98,
   "metadata": {},
   "outputs": [
    {
     "data": {
      "text/plain": [
       "[('22274', 8.538682574872077), ('24602', 8.538682574872077)]"
      ]
     },
     "execution_count": 98,
     "metadata": {},
     "output_type": "execute_result"
    }
   ],
   "source": [
    "# Mutiply tf by idf, also take log of tf\n",
    "joined_result_scaled = joined_result.map(lambda x: ( x[1][0] , math.log(x[1][1]) * idf_dict[x[0]]))\n",
    "joined_result_scaled.take(2)"
   ]
  },
  {
   "cell_type": "code",
   "execution_count": 101,
   "metadata": {},
   "outputs": [
    {
     "data": {
      "text/plain": [
       "[('19131544', 741.7130033963231),\n",
       " ('40233612', 707.289657870309),\n",
       " ('44783628', 563.7453826287107),\n",
       " ('19131481', 546.8678465408319),\n",
       " ('40173507', 507.69418833449095),\n",
       " ('4058695', 481.7558123104858),\n",
       " ('42800463', 471.9893986668932),\n",
       " ('4331309', 465.53202097814795),\n",
       " ('4098617', 438.70593407153245),\n",
       " ('37119138', 426.7260232871088)]"
      ]
     },
     "execution_count": 101,
     "metadata": {},
     "output_type": "execute_result"
    }
   ],
   "source": [
    "# sum the counts of UMLS occurences in titles across all the concept IDs\n",
    "joined_result_sum = joined_result_scaled.groupByKey().mapValues(sum)\n",
    "joined_result_sum = joined_result_sum.sortBy(lambda item: item[1], ascending=False)\n",
    "joined_result_sum.take(10)"
   ]
  },
  {
   "cell_type": "code",
   "execution_count": 102,
   "metadata": {},
   "outputs": [
    {
     "data": {
      "text/plain": [
       "9006"
      ]
     },
     "execution_count": 102,
     "metadata": {},
     "output_type": "execute_result"
    }
   ],
   "source": [
    "joined_result_sum.count()# this is how many potential features we can use, though we probably only use the top few ones."
   ]
  },
  {
   "cell_type": "code",
   "execution_count": 104,
   "metadata": {},
   "outputs": [],
   "source": [
    "# get rid of zero counts\n",
    "joined_result_sum = joined_result_sum.filter(lambda x: x[1] > 0)"
   ]
  },
  {
   "cell_type": "code",
   "execution_count": 105,
   "metadata": {},
   "outputs": [],
   "source": [
    "# save to a file to be used later in our model trainnig \n",
    "joined_result_sum.saveAsTextFile(\"/mnt/result/concept_counts_title_tfidf\")"
   ]
  },
  {
   "cell_type": "markdown",
   "metadata": {},
   "source": [
    "# Repeat all for abstracts"
   ]
  },
  {
   "cell_type": "code",
   "execution_count": 108,
   "metadata": {},
   "outputs": [
    {
     "data": {
      "text/plain": [
       "[('19131544', 1121.4249107333112),\n",
       " ('40233612', 1107.4251094679921),\n",
       " ('19131481', 879.0779182056724),\n",
       " ('44783628', 820.0347352556407),\n",
       " ('4098740', 768.105817450619),\n",
       " ('37119138', 728.6940575475434),\n",
       " ('3018994', 726.5751710216754),\n",
       " ('3022250', 726.5751710216754),\n",
       " ('40173507', 700.4274869799882),\n",
       " ('42800463', 675.430511191428)]"
      ]
     },
     "execution_count": 108,
     "metadata": {},
     "output_type": "execute_result"
    }
   ],
   "source": [
    "words = sc.textFile(\"/mnt/result/umls_cui_in_abstracts.txt\").flatMap(lambda line: line.split(\",\"))\n",
    "wordCounts = words.map(lambda word: (word, 1)).reduceByKey(lambda a,b:a +b)\n",
    "joined_result = ulms_concept_rdd.join(wordCounts)\n",
    "joined_result_scaled = joined_result.map(lambda x: ( x[1][0] , math.log(x[1][1]) * idf_dict[x[0]]))\n",
    "joined_result_sum = joined_result_scaled.groupByKey().mapValues(sum)\n",
    "joined_result_sum = joined_result_sum.sortBy(lambda item: item[1], ascending=False)\n",
    "joined_result_sum.take(10)"
   ]
  },
  {
   "cell_type": "code",
   "execution_count": 109,
   "metadata": {},
   "outputs": [],
   "source": [
    "joined_result_sum = joined_result_sum.filter(lambda x: x[1] > 0)\n",
    "joined_result_sum.saveAsTextFile(\"/mnt/result/concept_counts_abstracts_tfidf\")"
   ]
  }
 ],
 "metadata": {
  "kernelspec": {
   "display_name": "Python 3",
   "language": "python",
   "name": "python3"
  },
  "language_info": {
   "codemirror_mode": {
    "name": "ipython",
    "version": 3
   },
   "file_extension": ".py",
   "mimetype": "text/x-python",
   "name": "python",
   "nbconvert_exporter": "python",
   "pygments_lexer": "ipython3",
   "version": "3.8.6"
  }
 },
 "nbformat": 4,
 "nbformat_minor": 4
}
