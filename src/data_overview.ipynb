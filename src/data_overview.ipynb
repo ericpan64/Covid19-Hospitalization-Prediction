{
 "metadata": {
  "language_info": {
   "codemirror_mode": {
    "name": "ipython",
    "version": 3
   },
   "file_extension": ".py",
   "mimetype": "text/x-python",
   "name": "python",
   "nbconvert_exporter": "python",
   "pygments_lexer": "ipython3",
   "version": "3.8.5-final"
  },
  "orig_nbformat": 2,
  "kernelspec": {
   "name": "python38564bitd1c8c3e02a4349d4a7a5beac44c97aaa",
   "display_name": "Python 3.8.5 64-bit",
   "language": "python"
  }
 },
 "nbformat": 4,
 "nbformat_minor": 2,
 "cells": [
  {
   "source": [
    "## Overview\n",
    "This notebook introduces some exploratory data analysis involving the initial dataset with _all_ features as well as the final compressed features (used for submission).\n",
    "\n",
    "For reference, [this OHDSI website](https://athena.ohdsi.org/) provides a lookup dictionary for all possible concept_ids. Initially, we decided to consider all possible concept_ids (i.e. all unique values across a manually-identified set of columns) as possible features. This is especially challenging given that: 1) there are many possible unique clinical concepts (>5 million), 2) clinical concepts are often correlated or loosely coupled, and 3) concept appearance is often incredibly sparse across datasets (the more niche the condition/drug/procedure, the more sparse the dataset becomes). However, from the analysis we were able to identify high-correlation concept_ids with our target hospitalization label. We combined these results with the concept_ids identified from NLP analysis and the automated model selection framework to curate a final list of IDs.\n",
    "\n",
    "The \"use_all_concepts\" ETL generates the counts and disrete \"parsed\" values (when available) from all possible concept_ids from the given dataset.\n",
    "\n",
    "The \"use_compressed_concepts\" ETL was used for the final submission and generates counts based on an input list of specific concept_ids."
   ],
   "cell_type": "markdown",
   "metadata": {}
  },
  {
   "source": [
    "## Data Inspection (All concept_ids)\n",
    "This analysis was used in conjunction with the separate NLP analysis."
   ],
   "cell_type": "markdown",
   "metadata": {}
  },
  {
   "cell_type": "code",
   "execution_count": 1,
   "metadata": {
    "tags": []
   },
   "outputs": [],
   "source": [
    "import pandas as pd\n",
    "import use_all_concepts.etl as etl\n",
    "\n",
    "PATH = etl.TRAIN_PATH"
   ]
  },
  {
   "cell_type": "code",
   "execution_count": 2,
   "metadata": {
    "tags": []
   },
   "outputs": [
    {
     "output_type": "execute_result",
     "data": {
      "text/plain": [
       "      concept_id  unique_pid_count  avg_per_pid  \\\n",
       "0       44818702              1251   144.921663   \n",
       "1        3028553              1246    13.002408   \n",
       "2       37208405              1244    14.748392   \n",
       "3        3035995              1243     8.670153   \n",
       "4        3000905              1240     9.941129   \n",
       "...          ...               ...          ...   \n",
       "1506     2765743                 1     1.000000   \n",
       "1507     2002747                 1     1.000000   \n",
       "1508     2765672                 1     1.000000   \n",
       "1509     2003287                 1     1.000000   \n",
       "1510     2786558                 1     1.000000   \n",
       "\n",
       "                                           concept_name            from_table  \n",
       "0                                                  <NA>                  <NA>  \n",
       "1                                                  <NA>                  <NA>  \n",
       "2                                History of alcohol use           observation  \n",
       "3     Alkaline phosphatase [Enzymatic activity/volum...           measurement  \n",
       "4     Leukocytes [#/volume] in Blood by Automated count           measurement  \n",
       "...                                                 ...                   ...  \n",
       "1506                                               <NA>                  <NA>  \n",
       "1507         Other partial resection of small intestine  procedure_occurrence  \n",
       "1508                                               <NA>                  <NA>  \n",
       "1509          Endoscopic sphincterotomy and papillotomy  procedure_occurrence  \n",
       "1510                                               <NA>                  <NA>  \n",
       "\n",
       "[1511 rows x 5 columns]"
      ],
      "text/html": "<div>\n<style scoped>\n    .dataframe tbody tr th:only-of-type {\n        vertical-align: middle;\n    }\n\n    .dataframe tbody tr th {\n        vertical-align: top;\n    }\n\n    .dataframe thead th {\n        text-align: right;\n    }\n</style>\n<table border=\"1\" class=\"dataframe\">\n  <thead>\n    <tr style=\"text-align: right;\">\n      <th></th>\n      <th>concept_id</th>\n      <th>unique_pid_count</th>\n      <th>avg_per_pid</th>\n      <th>concept_name</th>\n      <th>from_table</th>\n    </tr>\n  </thead>\n  <tbody>\n    <tr>\n      <th>0</th>\n      <td>44818702</td>\n      <td>1251</td>\n      <td>144.921663</td>\n      <td>&lt;NA&gt;</td>\n      <td>&lt;NA&gt;</td>\n    </tr>\n    <tr>\n      <th>1</th>\n      <td>3028553</td>\n      <td>1246</td>\n      <td>13.002408</td>\n      <td>&lt;NA&gt;</td>\n      <td>&lt;NA&gt;</td>\n    </tr>\n    <tr>\n      <th>2</th>\n      <td>37208405</td>\n      <td>1244</td>\n      <td>14.748392</td>\n      <td>History of alcohol use</td>\n      <td>observation</td>\n    </tr>\n    <tr>\n      <th>3</th>\n      <td>3035995</td>\n      <td>1243</td>\n      <td>8.670153</td>\n      <td>Alkaline phosphatase [Enzymatic activity/volum...</td>\n      <td>measurement</td>\n    </tr>\n    <tr>\n      <th>4</th>\n      <td>3000905</td>\n      <td>1240</td>\n      <td>9.941129</td>\n      <td>Leukocytes [#/volume] in Blood by Automated count</td>\n      <td>measurement</td>\n    </tr>\n    <tr>\n      <th>...</th>\n      <td>...</td>\n      <td>...</td>\n      <td>...</td>\n      <td>...</td>\n      <td>...</td>\n    </tr>\n    <tr>\n      <th>1506</th>\n      <td>2765743</td>\n      <td>1</td>\n      <td>1.000000</td>\n      <td>&lt;NA&gt;</td>\n      <td>&lt;NA&gt;</td>\n    </tr>\n    <tr>\n      <th>1507</th>\n      <td>2002747</td>\n      <td>1</td>\n      <td>1.000000</td>\n      <td>Other partial resection of small intestine</td>\n      <td>procedure_occurrence</td>\n    </tr>\n    <tr>\n      <th>1508</th>\n      <td>2765672</td>\n      <td>1</td>\n      <td>1.000000</td>\n      <td>&lt;NA&gt;</td>\n      <td>&lt;NA&gt;</td>\n    </tr>\n    <tr>\n      <th>1509</th>\n      <td>2003287</td>\n      <td>1</td>\n      <td>1.000000</td>\n      <td>Endoscopic sphincterotomy and papillotomy</td>\n      <td>procedure_occurrence</td>\n    </tr>\n    <tr>\n      <th>1510</th>\n      <td>2786558</td>\n      <td>1</td>\n      <td>1.000000</td>\n      <td>&lt;NA&gt;</td>\n      <td>&lt;NA&gt;</td>\n    </tr>\n  </tbody>\n</table>\n<p>1511 rows × 5 columns</p>\n</div>"
     },
     "metadata": {},
     "execution_count": 2
    }
   ],
   "source": [
    "# Summary _does not_ include 'Parsed' values\n",
    "summary_df = etl.generate_concept_summary(PATH)\n",
    "summary_df"
   ]
  },
  {
   "cell_type": "code",
   "execution_count": 3,
   "metadata": {},
   "outputs": [
    {
     "output_type": "execute_result",
     "data": {
      "text/plain": [
       "            feature_id\n",
       "concept_id            \n",
       "2741240              0\n",
       "3043697              1\n",
       "4239779              2\n",
       "2617452              3\n",
       "2787823              4\n",
       "...                ...\n",
       "4075892611        2244\n",
       "3005033111        2245\n",
       "3037110111        2246\n",
       "3026156111        2247\n",
       "3032926111        2248\n",
       "\n",
       "[2249 rows x 1 columns]"
      ],
      "text/html": "<div>\n<style scoped>\n    .dataframe tbody tr th:only-of-type {\n        vertical-align: middle;\n    }\n\n    .dataframe tbody tr th {\n        vertical-align: top;\n    }\n\n    .dataframe thead th {\n        text-align: right;\n    }\n</style>\n<table border=\"1\" class=\"dataframe\">\n  <thead>\n    <tr style=\"text-align: right;\">\n      <th></th>\n      <th>feature_id</th>\n    </tr>\n    <tr>\n      <th>concept_id</th>\n      <th></th>\n    </tr>\n  </thead>\n  <tbody>\n    <tr>\n      <th>2741240</th>\n      <td>0</td>\n    </tr>\n    <tr>\n      <th>3043697</th>\n      <td>1</td>\n    </tr>\n    <tr>\n      <th>4239779</th>\n      <td>2</td>\n    </tr>\n    <tr>\n      <th>2617452</th>\n      <td>3</td>\n    </tr>\n    <tr>\n      <th>2787823</th>\n      <td>4</td>\n    </tr>\n    <tr>\n      <th>...</th>\n      <td>...</td>\n    </tr>\n    <tr>\n      <th>4075892611</th>\n      <td>2244</td>\n    </tr>\n    <tr>\n      <th>3005033111</th>\n      <td>2245</td>\n    </tr>\n    <tr>\n      <th>3037110111</th>\n      <td>2246</td>\n    </tr>\n    <tr>\n      <th>3026156111</th>\n      <td>2247</td>\n    </tr>\n    <tr>\n      <th>3032926111</th>\n      <td>2248</td>\n    </tr>\n  </tbody>\n</table>\n<p>2249 rows × 1 columns</p>\n</div>"
     },
     "metadata": {},
     "execution_count": 3
    }
   ],
   "source": [
    "# This Concept-Feature map _does_ include 'Parsed' values\n",
    "cf_map, corr_series = etl.get_highest_corr_concept_feature_id_map_and_corr_series(PATH)\n",
    "cf_map_as_df = pd.DataFrame(cf_map.values(), index=cf_map.keys())\n",
    "cf_map_as_df.columns = ['feature_id']\n",
    "cf_map_as_df.index.rename('concept_id', inplace=True)\n",
    "cf_map_as_df\n"
   ]
  },
  {
   "cell_type": "code",
   "execution_count": 4,
   "metadata": {},
   "outputs": [
    {
     "output_type": "execute_result",
     "data": {
      "text/plain": [
       "         concept_id  pearson_corr  abs_pearson_corr\n",
       "0            380378     -0.009100          0.009100\n",
       "1             75909      0.043308          0.043308\n",
       "2            438409      0.029498          0.029498\n",
       "3            435875     -0.037932          0.037932\n",
       "4             80502      0.002094          0.002094\n",
       "...             ...           ...               ...\n",
       "2244     3029187111      0.000000          0.000000\n",
       "2245     3004254111      0.000000          0.000000\n",
       "2246     3005755111      0.000000          0.000000\n",
       "2247     4075831011      0.000000          0.000000\n",
       "2248  1234567891011     -0.018641          0.018641\n",
       "\n",
       "[2249 rows x 3 columns]"
      ],
      "text/html": "<div>\n<style scoped>\n    .dataframe tbody tr th:only-of-type {\n        vertical-align: middle;\n    }\n\n    .dataframe tbody tr th {\n        vertical-align: top;\n    }\n\n    .dataframe thead th {\n        text-align: right;\n    }\n</style>\n<table border=\"1\" class=\"dataframe\">\n  <thead>\n    <tr style=\"text-align: right;\">\n      <th></th>\n      <th>concept_id</th>\n      <th>pearson_corr</th>\n      <th>abs_pearson_corr</th>\n    </tr>\n  </thead>\n  <tbody>\n    <tr>\n      <th>0</th>\n      <td>380378</td>\n      <td>-0.009100</td>\n      <td>0.009100</td>\n    </tr>\n    <tr>\n      <th>1</th>\n      <td>75909</td>\n      <td>0.043308</td>\n      <td>0.043308</td>\n    </tr>\n    <tr>\n      <th>2</th>\n      <td>438409</td>\n      <td>0.029498</td>\n      <td>0.029498</td>\n    </tr>\n    <tr>\n      <th>3</th>\n      <td>435875</td>\n      <td>-0.037932</td>\n      <td>0.037932</td>\n    </tr>\n    <tr>\n      <th>4</th>\n      <td>80502</td>\n      <td>0.002094</td>\n      <td>0.002094</td>\n    </tr>\n    <tr>\n      <th>...</th>\n      <td>...</td>\n      <td>...</td>\n      <td>...</td>\n    </tr>\n    <tr>\n      <th>2244</th>\n      <td>3029187111</td>\n      <td>0.000000</td>\n      <td>0.000000</td>\n    </tr>\n    <tr>\n      <th>2245</th>\n      <td>3004254111</td>\n      <td>0.000000</td>\n      <td>0.000000</td>\n    </tr>\n    <tr>\n      <th>2246</th>\n      <td>3005755111</td>\n      <td>0.000000</td>\n      <td>0.000000</td>\n    </tr>\n    <tr>\n      <th>2247</th>\n      <td>4075831011</td>\n      <td>0.000000</td>\n      <td>0.000000</td>\n    </tr>\n    <tr>\n      <th>2248</th>\n      <td>1234567891011</td>\n      <td>-0.018641</td>\n      <td>0.018641</td>\n    </tr>\n  </tbody>\n</table>\n<p>2249 rows × 3 columns</p>\n</div>"
     },
     "metadata": {},
     "execution_count": 4
    }
   ],
   "source": [
    "concept_to_correlation_df = pd.DataFrame(corr_series)\n",
    "concept_to_correlation_df.insert(1, 'abs_pearson_corr', abs(corr_series))\n",
    "concept_to_correlation_df = concept_to_correlation_df.reset_index().rename(columns={'index':'concept_id', 'status': 'pearson_corr'})\n",
    "concept_to_correlation_df.sort_values('abs_pearson_corr', ascending=False)\n",
    "concept_to_correlation_df"
   ]
  },
  {
   "source": [
    "## Matrix Generation"
   ],
   "cell_type": "markdown",
   "metadata": {}
  },
  {
   "source": [
    "### Without Feature Compression\n",
    "The following DataFrame demonstrates values using _all_ possible features. While more detailed, it is less performant given the high sparsity and dimensionality of the dataset."
   ],
   "cell_type": "markdown",
   "metadata": {}
  },
  {
   "cell_type": "code",
   "execution_count": 5,
   "metadata": {},
   "outputs": [
    {
     "output_type": "execute_result",
     "data": {
      "text/plain": [
       "           0     1     2     3     4     5     6     7     8     9     ...  \\\n",
       "person_id                                                              ...   \n",
       "0           0.0   0.0   0.0   0.0   0.0   0.0   0.0   0.0   0.0   0.0  ...   \n",
       "1           0.0   0.0   0.0   0.0   0.0   0.0   0.0   0.0   0.0   0.0  ...   \n",
       "2           0.0   0.0   0.0   0.0   0.0   0.0   0.0   0.0   0.0   0.0  ...   \n",
       "3           0.0   0.0   0.0   0.0   0.0   0.0   1.0   0.0   0.0   0.0  ...   \n",
       "4           0.0   0.0   0.0   0.0   0.0   0.0   0.0   0.0   0.0   0.0  ...   \n",
       "...         ...   ...   ...   ...   ...   ...   ...   ...   ...   ...  ...   \n",
       "1246        0.0   0.0   0.0   0.0   0.0   0.0   0.0   0.0   0.0   0.0  ...   \n",
       "1247        0.0   0.0   0.0   0.0   0.0   0.0   0.0   0.0   1.0   0.0  ...   \n",
       "1248        0.0   0.0   0.0   0.0   0.0   0.0   0.0   0.0   0.0   0.0  ...   \n",
       "1249        0.0   0.0   0.0   0.0   0.0   0.0   0.0   0.0   0.0   0.0  ...   \n",
       "1250        0.0   0.0   0.0   0.0   0.0   0.0   0.0   0.0   0.0   0.0  ...   \n",
       "\n",
       "           2239  2240  2241  2242  2243  2244  2245  2246  2247  2248  \n",
       "person_id                                                              \n",
       "0           0.0   0.0   0.0   0.0   0.0   0.0   0.0   0.0   0.0   0.0  \n",
       "1           0.0   0.0   0.0   0.0   0.0   0.0   0.0   0.0   0.0   0.0  \n",
       "2           0.0   0.0   0.0   0.0   0.0   0.0   0.0   0.0   0.0   0.0  \n",
       "3           0.0   0.0   0.0   0.0   0.0   0.0   0.0   0.0   0.0   0.0  \n",
       "4           0.0   0.0   0.0   0.0   0.0   0.0   0.0   0.0   0.0   0.0  \n",
       "...         ...   ...   ...   ...   ...   ...   ...   ...   ...   ...  \n",
       "1246        0.0   0.0   0.0   0.0   0.0   0.0   0.0   0.0   0.0   0.0  \n",
       "1247        0.0   0.0   0.0   0.0   0.0   0.0   0.0   0.0   0.0   0.0  \n",
       "1248        0.0   0.0   0.0   0.0   0.0   0.0   0.0   0.0   0.0   0.0  \n",
       "1249        0.0   0.0   0.0   0.0   0.0   0.0   0.0   0.0   0.0   0.0  \n",
       "1250        0.0   0.0   0.0   0.0   0.0   0.0   0.0   0.0   0.0   0.0  \n",
       "\n",
       "[1251 rows x 2249 columns]"
      ],
      "text/html": "<div>\n<style scoped>\n    .dataframe tbody tr th:only-of-type {\n        vertical-align: middle;\n    }\n\n    .dataframe tbody tr th {\n        vertical-align: top;\n    }\n\n    .dataframe thead th {\n        text-align: right;\n    }\n</style>\n<table border=\"1\" class=\"dataframe\">\n  <thead>\n    <tr style=\"text-align: right;\">\n      <th></th>\n      <th>0</th>\n      <th>1</th>\n      <th>2</th>\n      <th>3</th>\n      <th>4</th>\n      <th>5</th>\n      <th>6</th>\n      <th>7</th>\n      <th>8</th>\n      <th>9</th>\n      <th>...</th>\n      <th>2239</th>\n      <th>2240</th>\n      <th>2241</th>\n      <th>2242</th>\n      <th>2243</th>\n      <th>2244</th>\n      <th>2245</th>\n      <th>2246</th>\n      <th>2247</th>\n      <th>2248</th>\n    </tr>\n    <tr>\n      <th>person_id</th>\n      <th></th>\n      <th></th>\n      <th></th>\n      <th></th>\n      <th></th>\n      <th></th>\n      <th></th>\n      <th></th>\n      <th></th>\n      <th></th>\n      <th></th>\n      <th></th>\n      <th></th>\n      <th></th>\n      <th></th>\n      <th></th>\n      <th></th>\n      <th></th>\n      <th></th>\n      <th></th>\n      <th></th>\n    </tr>\n  </thead>\n  <tbody>\n    <tr>\n      <th>0</th>\n      <td>0.0</td>\n      <td>0.0</td>\n      <td>0.0</td>\n      <td>0.0</td>\n      <td>0.0</td>\n      <td>0.0</td>\n      <td>0.0</td>\n      <td>0.0</td>\n      <td>0.0</td>\n      <td>0.0</td>\n      <td>...</td>\n      <td>0.0</td>\n      <td>0.0</td>\n      <td>0.0</td>\n      <td>0.0</td>\n      <td>0.0</td>\n      <td>0.0</td>\n      <td>0.0</td>\n      <td>0.0</td>\n      <td>0.0</td>\n      <td>0.0</td>\n    </tr>\n    <tr>\n      <th>1</th>\n      <td>0.0</td>\n      <td>0.0</td>\n      <td>0.0</td>\n      <td>0.0</td>\n      <td>0.0</td>\n      <td>0.0</td>\n      <td>0.0</td>\n      <td>0.0</td>\n      <td>0.0</td>\n      <td>0.0</td>\n      <td>...</td>\n      <td>0.0</td>\n      <td>0.0</td>\n      <td>0.0</td>\n      <td>0.0</td>\n      <td>0.0</td>\n      <td>0.0</td>\n      <td>0.0</td>\n      <td>0.0</td>\n      <td>0.0</td>\n      <td>0.0</td>\n    </tr>\n    <tr>\n      <th>2</th>\n      <td>0.0</td>\n      <td>0.0</td>\n      <td>0.0</td>\n      <td>0.0</td>\n      <td>0.0</td>\n      <td>0.0</td>\n      <td>0.0</td>\n      <td>0.0</td>\n      <td>0.0</td>\n      <td>0.0</td>\n      <td>...</td>\n      <td>0.0</td>\n      <td>0.0</td>\n      <td>0.0</td>\n      <td>0.0</td>\n      <td>0.0</td>\n      <td>0.0</td>\n      <td>0.0</td>\n      <td>0.0</td>\n      <td>0.0</td>\n      <td>0.0</td>\n    </tr>\n    <tr>\n      <th>3</th>\n      <td>0.0</td>\n      <td>0.0</td>\n      <td>0.0</td>\n      <td>0.0</td>\n      <td>0.0</td>\n      <td>0.0</td>\n      <td>1.0</td>\n      <td>0.0</td>\n      <td>0.0</td>\n      <td>0.0</td>\n      <td>...</td>\n      <td>0.0</td>\n      <td>0.0</td>\n      <td>0.0</td>\n      <td>0.0</td>\n      <td>0.0</td>\n      <td>0.0</td>\n      <td>0.0</td>\n      <td>0.0</td>\n      <td>0.0</td>\n      <td>0.0</td>\n    </tr>\n    <tr>\n      <th>4</th>\n      <td>0.0</td>\n      <td>0.0</td>\n      <td>0.0</td>\n      <td>0.0</td>\n      <td>0.0</td>\n      <td>0.0</td>\n      <td>0.0</td>\n      <td>0.0</td>\n      <td>0.0</td>\n      <td>0.0</td>\n      <td>...</td>\n      <td>0.0</td>\n      <td>0.0</td>\n      <td>0.0</td>\n      <td>0.0</td>\n      <td>0.0</td>\n      <td>0.0</td>\n      <td>0.0</td>\n      <td>0.0</td>\n      <td>0.0</td>\n      <td>0.0</td>\n    </tr>\n    <tr>\n      <th>...</th>\n      <td>...</td>\n      <td>...</td>\n      <td>...</td>\n      <td>...</td>\n      <td>...</td>\n      <td>...</td>\n      <td>...</td>\n      <td>...</td>\n      <td>...</td>\n      <td>...</td>\n      <td>...</td>\n      <td>...</td>\n      <td>...</td>\n      <td>...</td>\n      <td>...</td>\n      <td>...</td>\n      <td>...</td>\n      <td>...</td>\n      <td>...</td>\n      <td>...</td>\n      <td>...</td>\n    </tr>\n    <tr>\n      <th>1246</th>\n      <td>0.0</td>\n      <td>0.0</td>\n      <td>0.0</td>\n      <td>0.0</td>\n      <td>0.0</td>\n      <td>0.0</td>\n      <td>0.0</td>\n      <td>0.0</td>\n      <td>0.0</td>\n      <td>0.0</td>\n      <td>...</td>\n      <td>0.0</td>\n      <td>0.0</td>\n      <td>0.0</td>\n      <td>0.0</td>\n      <td>0.0</td>\n      <td>0.0</td>\n      <td>0.0</td>\n      <td>0.0</td>\n      <td>0.0</td>\n      <td>0.0</td>\n    </tr>\n    <tr>\n      <th>1247</th>\n      <td>0.0</td>\n      <td>0.0</td>\n      <td>0.0</td>\n      <td>0.0</td>\n      <td>0.0</td>\n      <td>0.0</td>\n      <td>0.0</td>\n      <td>0.0</td>\n      <td>1.0</td>\n      <td>0.0</td>\n      <td>...</td>\n      <td>0.0</td>\n      <td>0.0</td>\n      <td>0.0</td>\n      <td>0.0</td>\n      <td>0.0</td>\n      <td>0.0</td>\n      <td>0.0</td>\n      <td>0.0</td>\n      <td>0.0</td>\n      <td>0.0</td>\n    </tr>\n    <tr>\n      <th>1248</th>\n      <td>0.0</td>\n      <td>0.0</td>\n      <td>0.0</td>\n      <td>0.0</td>\n      <td>0.0</td>\n      <td>0.0</td>\n      <td>0.0</td>\n      <td>0.0</td>\n      <td>0.0</td>\n      <td>0.0</td>\n      <td>...</td>\n      <td>0.0</td>\n      <td>0.0</td>\n      <td>0.0</td>\n      <td>0.0</td>\n      <td>0.0</td>\n      <td>0.0</td>\n      <td>0.0</td>\n      <td>0.0</td>\n      <td>0.0</td>\n      <td>0.0</td>\n    </tr>\n    <tr>\n      <th>1249</th>\n      <td>0.0</td>\n      <td>0.0</td>\n      <td>0.0</td>\n      <td>0.0</td>\n      <td>0.0</td>\n      <td>0.0</td>\n      <td>0.0</td>\n      <td>0.0</td>\n      <td>0.0</td>\n      <td>0.0</td>\n      <td>...</td>\n      <td>0.0</td>\n      <td>0.0</td>\n      <td>0.0</td>\n      <td>0.0</td>\n      <td>0.0</td>\n      <td>0.0</td>\n      <td>0.0</td>\n      <td>0.0</td>\n      <td>0.0</td>\n      <td>0.0</td>\n    </tr>\n    <tr>\n      <th>1250</th>\n      <td>0.0</td>\n      <td>0.0</td>\n      <td>0.0</td>\n      <td>0.0</td>\n      <td>0.0</td>\n      <td>0.0</td>\n      <td>0.0</td>\n      <td>0.0</td>\n      <td>0.0</td>\n      <td>0.0</td>\n      <td>...</td>\n      <td>0.0</td>\n      <td>0.0</td>\n      <td>0.0</td>\n      <td>0.0</td>\n      <td>0.0</td>\n      <td>0.0</td>\n      <td>0.0</td>\n      <td>0.0</td>\n      <td>0.0</td>\n      <td>0.0</td>\n    </tr>\n  </tbody>\n</table>\n<p>1251 rows × 2249 columns</p>\n</div>"
     },
     "metadata": {},
     "execution_count": 5
    }
   ],
   "source": [
    "feature_df = etl.create_feature_df(cf_map, path=PATH)\n",
    "feature_df"
   ]
  },
  {
   "source": [
    "### With Feature Compression\n",
    "The following DataFrame demonstrates values using the compressed approach (counts of concept_ids as features). This approach performed much better and was used for the final submission."
   ],
   "cell_type": "markdown",
   "metadata": {}
  },
  {
   "cell_type": "code",
   "execution_count": 6,
   "metadata": {},
   "outputs": [],
   "source": [
    "import use_compressed_concepts.simple_etl as simple_etl"
   ]
  },
  {
   "cell_type": "code",
   "execution_count": 7,
   "metadata": {},
   "outputs": [
    {
     "output_type": "stream",
     "name": "stdout",
     "text": [
      "number of features from id list:  300\n",
      "N unique condition:  18\n",
      "N unique drug:  12\n",
      "N unique device:  0\n",
      "N unique measurement:  12\n",
      "N unique observation:  1\n",
      "N unique procedure:  1\n",
      "number of compressed features: 44\n"
     ]
    },
    {
     "output_type": "execute_result",
     "data": {
      "text/plain": [
       "concept_id  30437     133810    196523    312437    376065    378726    \\\n",
       "person_id                                                                \n",
       "0           0.333333       0.0       0.0  0.000000       0.5       0.0   \n",
       "1           0.333333       0.5       0.0  0.666667       0.0       0.0   \n",
       "2           0.000000       0.0       0.0  0.000000       0.0       0.0   \n",
       "3           0.000000       0.0       0.0  0.000000       0.0       0.0   \n",
       "4           0.000000       0.0       0.0  0.000000       0.0       0.0   \n",
       "...              ...       ...       ...       ...       ...       ...   \n",
       "1246        0.000000       0.0       0.0  0.333333       0.0       0.0   \n",
       "1247        0.000000       0.0       0.0  0.333333       0.0       0.0   \n",
       "1248        0.000000       0.0       0.0  0.333333       0.0       0.0   \n",
       "1249        0.333333       0.0       0.0  0.000000       0.0       0.0   \n",
       "1250        0.000000       0.0       0.0  0.000000       0.0       0.0   \n",
       "\n",
       "concept_id  380097    436659    437247    437663    ...  19133873  19133905  \\\n",
       "person_id                                           ...                       \n",
       "0                0.5  0.666667       0.0  0.000000  ...       0.0       0.0   \n",
       "1                0.0  0.000000       0.0  0.000000  ...       0.0       0.0   \n",
       "2                0.0  0.000000       0.0  0.000000  ...       0.0       0.0   \n",
       "3                0.0  0.000000       0.0  0.000000  ...       1.0       0.0   \n",
       "4                0.0  0.000000       0.0  0.333333  ...       0.0       0.0   \n",
       "...              ...       ...       ...       ...  ...       ...       ...   \n",
       "1246             0.0  0.000000       0.0  0.000000  ...       0.0       0.0   \n",
       "1247             0.0  0.000000       0.0  0.000000  ...       0.0       0.0   \n",
       "1248             0.0  0.000000       0.0  0.000000  ...       0.0       0.0   \n",
       "1249             0.0  0.666667       0.0  0.000000  ...       0.0       0.0   \n",
       "1250             0.0  0.333333       0.0  0.000000  ...       0.0       0.0   \n",
       "\n",
       "concept_id  37016349  37119138  40173507  40238886  40481089  44507566  \\\n",
       "person_id                                                                \n",
       "0           0.000000       0.0       0.0       0.0      0.25       0.0   \n",
       "1           0.333333       0.0       0.0       0.0      0.00       0.0   \n",
       "2           0.000000       0.0       0.0       0.0      0.00       0.0   \n",
       "3           0.333333       0.0       0.0       0.0      0.00       0.0   \n",
       "4           0.000000       0.0       0.0       0.0      0.00       0.0   \n",
       "...              ...       ...       ...       ...       ...       ...   \n",
       "1246        0.000000       0.0       0.0       0.0      0.25       0.0   \n",
       "1247        0.000000       0.0       0.0       0.0      0.00       0.0   \n",
       "1248        0.000000       0.0       0.0       0.0      0.00       0.0   \n",
       "1249        0.000000       0.5       0.0       0.0      0.00       0.0   \n",
       "1250        0.000000       0.0       0.0       0.0      0.25       0.0   \n",
       "\n",
       "concept_id  44782429  45768812  \n",
       "person_id                       \n",
       "0           0.666667       0.0  \n",
       "1           0.000000       0.0  \n",
       "2           0.333333       0.0  \n",
       "3           0.000000       0.0  \n",
       "4           0.333333       0.0  \n",
       "...              ...       ...  \n",
       "1246        0.000000       0.0  \n",
       "1247        0.000000       0.0  \n",
       "1248        0.000000       0.0  \n",
       "1249        0.000000       0.0  \n",
       "1250        0.333333       0.0  \n",
       "\n",
       "[1247 rows x 44 columns]"
      ],
      "text/html": "<div>\n<style scoped>\n    .dataframe tbody tr th:only-of-type {\n        vertical-align: middle;\n    }\n\n    .dataframe tbody tr th {\n        vertical-align: top;\n    }\n\n    .dataframe thead th {\n        text-align: right;\n    }\n</style>\n<table border=\"1\" class=\"dataframe\">\n  <thead>\n    <tr style=\"text-align: right;\">\n      <th>concept_id</th>\n      <th>30437</th>\n      <th>133810</th>\n      <th>196523</th>\n      <th>312437</th>\n      <th>376065</th>\n      <th>378726</th>\n      <th>380097</th>\n      <th>436659</th>\n      <th>437247</th>\n      <th>437663</th>\n      <th>...</th>\n      <th>19133873</th>\n      <th>19133905</th>\n      <th>37016349</th>\n      <th>37119138</th>\n      <th>40173507</th>\n      <th>40238886</th>\n      <th>40481089</th>\n      <th>44507566</th>\n      <th>44782429</th>\n      <th>45768812</th>\n    </tr>\n    <tr>\n      <th>person_id</th>\n      <th></th>\n      <th></th>\n      <th></th>\n      <th></th>\n      <th></th>\n      <th></th>\n      <th></th>\n      <th></th>\n      <th></th>\n      <th></th>\n      <th></th>\n      <th></th>\n      <th></th>\n      <th></th>\n      <th></th>\n      <th></th>\n      <th></th>\n      <th></th>\n      <th></th>\n      <th></th>\n      <th></th>\n    </tr>\n  </thead>\n  <tbody>\n    <tr>\n      <th>0</th>\n      <td>0.333333</td>\n      <td>0.0</td>\n      <td>0.0</td>\n      <td>0.000000</td>\n      <td>0.5</td>\n      <td>0.0</td>\n      <td>0.5</td>\n      <td>0.666667</td>\n      <td>0.0</td>\n      <td>0.000000</td>\n      <td>...</td>\n      <td>0.0</td>\n      <td>0.0</td>\n      <td>0.000000</td>\n      <td>0.0</td>\n      <td>0.0</td>\n      <td>0.0</td>\n      <td>0.25</td>\n      <td>0.0</td>\n      <td>0.666667</td>\n      <td>0.0</td>\n    </tr>\n    <tr>\n      <th>1</th>\n      <td>0.333333</td>\n      <td>0.5</td>\n      <td>0.0</td>\n      <td>0.666667</td>\n      <td>0.0</td>\n      <td>0.0</td>\n      <td>0.0</td>\n      <td>0.000000</td>\n      <td>0.0</td>\n      <td>0.000000</td>\n      <td>...</td>\n      <td>0.0</td>\n      <td>0.0</td>\n      <td>0.333333</td>\n      <td>0.0</td>\n      <td>0.0</td>\n      <td>0.0</td>\n      <td>0.00</td>\n      <td>0.0</td>\n      <td>0.000000</td>\n      <td>0.0</td>\n    </tr>\n    <tr>\n      <th>2</th>\n      <td>0.000000</td>\n      <td>0.0</td>\n      <td>0.0</td>\n      <td>0.000000</td>\n      <td>0.0</td>\n      <td>0.0</td>\n      <td>0.0</td>\n      <td>0.000000</td>\n      <td>0.0</td>\n      <td>0.000000</td>\n      <td>...</td>\n      <td>0.0</td>\n      <td>0.0</td>\n      <td>0.000000</td>\n      <td>0.0</td>\n      <td>0.0</td>\n      <td>0.0</td>\n      <td>0.00</td>\n      <td>0.0</td>\n      <td>0.333333</td>\n      <td>0.0</td>\n    </tr>\n    <tr>\n      <th>3</th>\n      <td>0.000000</td>\n      <td>0.0</td>\n      <td>0.0</td>\n      <td>0.000000</td>\n      <td>0.0</td>\n      <td>0.0</td>\n      <td>0.0</td>\n      <td>0.000000</td>\n      <td>0.0</td>\n      <td>0.000000</td>\n      <td>...</td>\n      <td>1.0</td>\n      <td>0.0</td>\n      <td>0.333333</td>\n      <td>0.0</td>\n      <td>0.0</td>\n      <td>0.0</td>\n      <td>0.00</td>\n      <td>0.0</td>\n      <td>0.000000</td>\n      <td>0.0</td>\n    </tr>\n    <tr>\n      <th>4</th>\n      <td>0.000000</td>\n      <td>0.0</td>\n      <td>0.0</td>\n      <td>0.000000</td>\n      <td>0.0</td>\n      <td>0.0</td>\n      <td>0.0</td>\n      <td>0.000000</td>\n      <td>0.0</td>\n      <td>0.333333</td>\n      <td>...</td>\n      <td>0.0</td>\n      <td>0.0</td>\n      <td>0.000000</td>\n      <td>0.0</td>\n      <td>0.0</td>\n      <td>0.0</td>\n      <td>0.00</td>\n      <td>0.0</td>\n      <td>0.333333</td>\n      <td>0.0</td>\n    </tr>\n    <tr>\n      <th>...</th>\n      <td>...</td>\n      <td>...</td>\n      <td>...</td>\n      <td>...</td>\n      <td>...</td>\n      <td>...</td>\n      <td>...</td>\n      <td>...</td>\n      <td>...</td>\n      <td>...</td>\n      <td>...</td>\n      <td>...</td>\n      <td>...</td>\n      <td>...</td>\n      <td>...</td>\n      <td>...</td>\n      <td>...</td>\n      <td>...</td>\n      <td>...</td>\n      <td>...</td>\n      <td>...</td>\n    </tr>\n    <tr>\n      <th>1246</th>\n      <td>0.000000</td>\n      <td>0.0</td>\n      <td>0.0</td>\n      <td>0.333333</td>\n      <td>0.0</td>\n      <td>0.0</td>\n      <td>0.0</td>\n      <td>0.000000</td>\n      <td>0.0</td>\n      <td>0.000000</td>\n      <td>...</td>\n      <td>0.0</td>\n      <td>0.0</td>\n      <td>0.000000</td>\n      <td>0.0</td>\n      <td>0.0</td>\n      <td>0.0</td>\n      <td>0.25</td>\n      <td>0.0</td>\n      <td>0.000000</td>\n      <td>0.0</td>\n    </tr>\n    <tr>\n      <th>1247</th>\n      <td>0.000000</td>\n      <td>0.0</td>\n      <td>0.0</td>\n      <td>0.333333</td>\n      <td>0.0</td>\n      <td>0.0</td>\n      <td>0.0</td>\n      <td>0.000000</td>\n      <td>0.0</td>\n      <td>0.000000</td>\n      <td>...</td>\n      <td>0.0</td>\n      <td>0.0</td>\n      <td>0.000000</td>\n      <td>0.0</td>\n      <td>0.0</td>\n      <td>0.0</td>\n      <td>0.00</td>\n      <td>0.0</td>\n      <td>0.000000</td>\n      <td>0.0</td>\n    </tr>\n    <tr>\n      <th>1248</th>\n      <td>0.000000</td>\n      <td>0.0</td>\n      <td>0.0</td>\n      <td>0.333333</td>\n      <td>0.0</td>\n      <td>0.0</td>\n      <td>0.0</td>\n      <td>0.000000</td>\n      <td>0.0</td>\n      <td>0.000000</td>\n      <td>...</td>\n      <td>0.0</td>\n      <td>0.0</td>\n      <td>0.000000</td>\n      <td>0.0</td>\n      <td>0.0</td>\n      <td>0.0</td>\n      <td>0.00</td>\n      <td>0.0</td>\n      <td>0.000000</td>\n      <td>0.0</td>\n    </tr>\n    <tr>\n      <th>1249</th>\n      <td>0.333333</td>\n      <td>0.0</td>\n      <td>0.0</td>\n      <td>0.000000</td>\n      <td>0.0</td>\n      <td>0.0</td>\n      <td>0.0</td>\n      <td>0.666667</td>\n      <td>0.0</td>\n      <td>0.000000</td>\n      <td>...</td>\n      <td>0.0</td>\n      <td>0.0</td>\n      <td>0.000000</td>\n      <td>0.5</td>\n      <td>0.0</td>\n      <td>0.0</td>\n      <td>0.00</td>\n      <td>0.0</td>\n      <td>0.000000</td>\n      <td>0.0</td>\n    </tr>\n    <tr>\n      <th>1250</th>\n      <td>0.000000</td>\n      <td>0.0</td>\n      <td>0.0</td>\n      <td>0.000000</td>\n      <td>0.0</td>\n      <td>0.0</td>\n      <td>0.0</td>\n      <td>0.333333</td>\n      <td>0.0</td>\n      <td>0.000000</td>\n      <td>...</td>\n      <td>0.0</td>\n      <td>0.0</td>\n      <td>0.000000</td>\n      <td>0.0</td>\n      <td>0.0</td>\n      <td>0.0</td>\n      <td>0.25</td>\n      <td>0.0</td>\n      <td>0.333333</td>\n      <td>0.0</td>\n    </tr>\n  </tbody>\n</table>\n<p>1247 rows × 44 columns</p>\n</div>"
     },
     "metadata": {},
     "execution_count": 7
    }
   ],
   "source": [
    "predictors = simple_etl.get_features_from_list()\n",
    "predictors = predictors.set_index('person_id')\n",
    "print(f\"number of compressed features: {len(predictors.columns)}\")\n",
    "predictors"
   ]
  }
 ]
}