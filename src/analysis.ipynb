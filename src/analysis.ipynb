{
 "metadata": {
  "language_info": {
   "codemirror_mode": {
    "name": "ipython",
    "version": 3
   },
   "file_extension": ".py",
   "mimetype": "text/x-python",
   "name": "python",
   "nbconvert_exporter": "python",
   "pygments_lexer": "ipython3",
   "version": "3.8.5-final"
  },
  "orig_nbformat": 2,
  "kernelspec": {
   "name": "python38564bitd1c8c3e02a4349d4a7a5beac44c97aaa",
   "display_name": "Python 3.8.5 64-bit"
  }
 },
 "nbformat": 4,
 "nbformat_minor": 2,
 "cells": [
  {
   "source": [
    "## Data Inspection\n",
    "- Goal: understand quantity and sparsity of data across patients"
   ],
   "cell_type": "markdown",
   "metadata": {}
  },
  {
   "cell_type": "code",
   "execution_count": 33,
   "metadata": {
    "tags": []
   },
   "outputs": [],
   "source": [
    "import pandas as pd\n",
    "import etl\n",
    "\n",
    "PATH = etl.TRAIN_PATH"
   ]
  },
  {
   "cell_type": "code",
   "execution_count": 20,
   "metadata": {},
   "outputs": [
    {
     "output_type": "execute_result",
     "data": {
      "text/plain": [
       "<module 'etl' from '/home/epan/Documents/Github/c19-Hospitalization-Likelihood/src/etl.py'>"
      ]
     },
     "metadata": {},
     "execution_count": 20
    }
   ],
   "source": [
    "from importlib import reload\n",
    "reload(etl)"
   ]
  },
  {
   "cell_type": "code",
   "execution_count": 34,
   "metadata": {
    "tags": []
   },
   "outputs": [
    {
     "output_type": "execute_result",
     "data": {
      "text/plain": [
       "      concept_id  unique_pid_count  avg_per_pid  \\\n",
       "0       44818702              1251   144.921663   \n",
       "1        3028553              1246    13.002408   \n",
       "2       37208405              1244    14.748392   \n",
       "3        3035995              1243     8.670153   \n",
       "4        3000905              1240     9.941129   \n",
       "...          ...               ...          ...   \n",
       "1506     2765743                 1     1.000000   \n",
       "1507     2002747                 1     1.000000   \n",
       "1508     2765672                 1     1.000000   \n",
       "1509     2003287                 1     1.000000   \n",
       "1510     2786558                 1     1.000000   \n",
       "\n",
       "                                           concept_name            from_table  \n",
       "0                                                  <NA>                  <NA>  \n",
       "1                                                  <NA>                  <NA>  \n",
       "2                                History of alcohol use           observation  \n",
       "3     Alkaline phosphatase [Enzymatic activity/volum...           measurement  \n",
       "4     Leukocytes [#/volume] in Blood by Automated count           measurement  \n",
       "...                                                 ...                   ...  \n",
       "1506                                               <NA>                  <NA>  \n",
       "1507         Other partial resection of small intestine  procedure_occurrence  \n",
       "1508                                               <NA>                  <NA>  \n",
       "1509          Endoscopic sphincterotomy and papillotomy  procedure_occurrence  \n",
       "1510                                               <NA>                  <NA>  \n",
       "\n",
       "[1511 rows x 5 columns]"
      ],
      "text/html": "<div>\n<style scoped>\n    .dataframe tbody tr th:only-of-type {\n        vertical-align: middle;\n    }\n\n    .dataframe tbody tr th {\n        vertical-align: top;\n    }\n\n    .dataframe thead th {\n        text-align: right;\n    }\n</style>\n<table border=\"1\" class=\"dataframe\">\n  <thead>\n    <tr style=\"text-align: right;\">\n      <th></th>\n      <th>concept_id</th>\n      <th>unique_pid_count</th>\n      <th>avg_per_pid</th>\n      <th>concept_name</th>\n      <th>from_table</th>\n    </tr>\n  </thead>\n  <tbody>\n    <tr>\n      <th>0</th>\n      <td>44818702</td>\n      <td>1251</td>\n      <td>144.921663</td>\n      <td>&lt;NA&gt;</td>\n      <td>&lt;NA&gt;</td>\n    </tr>\n    <tr>\n      <th>1</th>\n      <td>3028553</td>\n      <td>1246</td>\n      <td>13.002408</td>\n      <td>&lt;NA&gt;</td>\n      <td>&lt;NA&gt;</td>\n    </tr>\n    <tr>\n      <th>2</th>\n      <td>37208405</td>\n      <td>1244</td>\n      <td>14.748392</td>\n      <td>History of alcohol use</td>\n      <td>observation</td>\n    </tr>\n    <tr>\n      <th>3</th>\n      <td>3035995</td>\n      <td>1243</td>\n      <td>8.670153</td>\n      <td>Alkaline phosphatase [Enzymatic activity/volum...</td>\n      <td>measurement</td>\n    </tr>\n    <tr>\n      <th>4</th>\n      <td>3000905</td>\n      <td>1240</td>\n      <td>9.941129</td>\n      <td>Leukocytes [#/volume] in Blood by Automated count</td>\n      <td>measurement</td>\n    </tr>\n    <tr>\n      <th>...</th>\n      <td>...</td>\n      <td>...</td>\n      <td>...</td>\n      <td>...</td>\n      <td>...</td>\n    </tr>\n    <tr>\n      <th>1506</th>\n      <td>2765743</td>\n      <td>1</td>\n      <td>1.000000</td>\n      <td>&lt;NA&gt;</td>\n      <td>&lt;NA&gt;</td>\n    </tr>\n    <tr>\n      <th>1507</th>\n      <td>2002747</td>\n      <td>1</td>\n      <td>1.000000</td>\n      <td>Other partial resection of small intestine</td>\n      <td>procedure_occurrence</td>\n    </tr>\n    <tr>\n      <th>1508</th>\n      <td>2765672</td>\n      <td>1</td>\n      <td>1.000000</td>\n      <td>&lt;NA&gt;</td>\n      <td>&lt;NA&gt;</td>\n    </tr>\n    <tr>\n      <th>1509</th>\n      <td>2003287</td>\n      <td>1</td>\n      <td>1.000000</td>\n      <td>Endoscopic sphincterotomy and papillotomy</td>\n      <td>procedure_occurrence</td>\n    </tr>\n    <tr>\n      <th>1510</th>\n      <td>2786558</td>\n      <td>1</td>\n      <td>1.000000</td>\n      <td>&lt;NA&gt;</td>\n      <td>&lt;NA&gt;</td>\n    </tr>\n  </tbody>\n</table>\n<p>1511 rows × 5 columns</p>\n</div>"
     },
     "metadata": {},
     "execution_count": 34
    }
   ],
   "source": [
    "# Summary _does not_ include 'Parsed' values\n",
    "summary_df = etl.generate_concept_summary(PATH)\n",
    "summary_df"
   ]
  },
  {
   "cell_type": "code",
   "execution_count": 35,
   "metadata": {},
   "outputs": [],
   "source": [
    "# This Concept-Feature map _does_ include 'Parsed' values\n",
    "cf_map, corr_series = etl.get_highest_corr_concept_feature_id_map_and_corr_series(PATH)\n"
   ]
  },
  {
   "cell_type": "code",
   "execution_count": 36,
   "metadata": {},
   "outputs": [
    {
     "output_type": "execute_result",
     "data": {
      "text/plain": [
       "         concept_id  pearson_corr  abs_pearson_corr\n",
       "0            380378     -0.009100          0.009100\n",
       "1             75909      0.043308          0.043308\n",
       "2            438409      0.029498          0.029498\n",
       "3            435875     -0.037932          0.037932\n",
       "4             80502      0.002094          0.002094\n",
       "...             ...           ...               ...\n",
       "2244     3029187111      0.000000          0.000000\n",
       "2245     3004254111      0.000000          0.000000\n",
       "2246     3005755111      0.000000          0.000000\n",
       "2247     4075831011      0.000000          0.000000\n",
       "2248  1234567891011     -0.018641          0.018641\n",
       "\n",
       "[2249 rows x 3 columns]"
      ],
      "text/html": "<div>\n<style scoped>\n    .dataframe tbody tr th:only-of-type {\n        vertical-align: middle;\n    }\n\n    .dataframe tbody tr th {\n        vertical-align: top;\n    }\n\n    .dataframe thead th {\n        text-align: right;\n    }\n</style>\n<table border=\"1\" class=\"dataframe\">\n  <thead>\n    <tr style=\"text-align: right;\">\n      <th></th>\n      <th>concept_id</th>\n      <th>pearson_corr</th>\n      <th>abs_pearson_corr</th>\n    </tr>\n  </thead>\n  <tbody>\n    <tr>\n      <th>0</th>\n      <td>380378</td>\n      <td>-0.009100</td>\n      <td>0.009100</td>\n    </tr>\n    <tr>\n      <th>1</th>\n      <td>75909</td>\n      <td>0.043308</td>\n      <td>0.043308</td>\n    </tr>\n    <tr>\n      <th>2</th>\n      <td>438409</td>\n      <td>0.029498</td>\n      <td>0.029498</td>\n    </tr>\n    <tr>\n      <th>3</th>\n      <td>435875</td>\n      <td>-0.037932</td>\n      <td>0.037932</td>\n    </tr>\n    <tr>\n      <th>4</th>\n      <td>80502</td>\n      <td>0.002094</td>\n      <td>0.002094</td>\n    </tr>\n    <tr>\n      <th>...</th>\n      <td>...</td>\n      <td>...</td>\n      <td>...</td>\n    </tr>\n    <tr>\n      <th>2244</th>\n      <td>3029187111</td>\n      <td>0.000000</td>\n      <td>0.000000</td>\n    </tr>\n    <tr>\n      <th>2245</th>\n      <td>3004254111</td>\n      <td>0.000000</td>\n      <td>0.000000</td>\n    </tr>\n    <tr>\n      <th>2246</th>\n      <td>3005755111</td>\n      <td>0.000000</td>\n      <td>0.000000</td>\n    </tr>\n    <tr>\n      <th>2247</th>\n      <td>4075831011</td>\n      <td>0.000000</td>\n      <td>0.000000</td>\n    </tr>\n    <tr>\n      <th>2248</th>\n      <td>1234567891011</td>\n      <td>-0.018641</td>\n      <td>0.018641</td>\n    </tr>\n  </tbody>\n</table>\n<p>2249 rows × 3 columns</p>\n</div>"
     },
     "metadata": {},
     "execution_count": 36
    }
   ],
   "source": [
    "concept_to_correlation_df = pd.DataFrame(corr_series)\n",
    "concept_to_correlation_df.insert(1, 'abs_pearson_corr', abs(corr_series))\n",
    "concept_to_correlation_df = concept_to_correlation_df.reset_index().rename(columns={'index':'concept_id', 'status': 'pearson_corr'})\n",
    "concept_to_correlation_df.sort_values('abs_pearson_corr', ascending=False)\n",
    "concept_to_correlation_df"
   ]
  },
  {
   "source": [
    "## Clustering Analysis - Finding Highest-Separation Feature Combinations\n",
    "- Goal: find set of features that result in best PCA Clustering\n",
    "- Pipeline: pick set of features (profile) -> run PCA -> manually view data -> run K-Means/GMM to cluster -> score clusters: use this as predictive measurement"
   ],
   "cell_type": "markdown",
   "metadata": {}
  },
  {
   "cell_type": "code",
   "execution_count": 38,
   "metadata": {},
   "outputs": [
    {
     "output_type": "execute_result",
     "data": {
      "text/plain": [
       "           0     1     2     3     4     5     6     7     8     9     ...  \\\n",
       "person_id                                                              ...   \n",
       "0           0.0   0.0   0.0   0.0   0.0   0.0   0.0   0.0   0.0   0.0  ...   \n",
       "1           0.0   0.0   0.0   0.0   0.0   0.0   0.0   0.0   0.0   0.0  ...   \n",
       "2           0.0   0.0   0.0   0.0   0.0   0.0   0.0   0.0   0.0   0.0  ...   \n",
       "3           0.0   0.0   0.0   0.0   0.0   0.0   1.0   0.0   0.0   0.0  ...   \n",
       "4           0.0   0.0   0.0   0.0   0.0   0.0   0.0   0.0   0.0   0.0  ...   \n",
       "...         ...   ...   ...   ...   ...   ...   ...   ...   ...   ...  ...   \n",
       "1246        0.0   0.0   0.0   0.0   0.0   0.0   0.0   0.0   0.0   0.0  ...   \n",
       "1247        0.0   0.0   0.0   0.0   0.0   0.0   0.0   0.0   1.0   0.0  ...   \n",
       "1248        0.0   0.0   0.0   0.0   0.0   0.0   0.0   0.0   0.0   0.0  ...   \n",
       "1249        0.0   0.0   0.0   0.0   0.0   0.0   0.0   0.0   0.0   0.0  ...   \n",
       "1250        0.0   0.0   0.0   0.0   0.0   0.0   0.0   0.0   0.0   0.0  ...   \n",
       "\n",
       "           2239  2240  2241  2242  2243  2244  2245  2246  2247  2248  \n",
       "person_id                                                              \n",
       "0           0.0   0.0   0.0   0.0   0.0   0.0   0.0   0.0   0.0   0.0  \n",
       "1           0.0   0.0   0.0   0.0   0.0   0.0   0.0   0.0   0.0   0.0  \n",
       "2           0.0   0.0   0.0   0.0   0.0   0.0   0.0   0.0   0.0   0.0  \n",
       "3           0.0   0.0   0.0   0.0   0.0   0.0   0.0   0.0   0.0   0.0  \n",
       "4           0.0   0.0   0.0   0.0   0.0   0.0   0.0   0.0   0.0   0.0  \n",
       "...         ...   ...   ...   ...   ...   ...   ...   ...   ...   ...  \n",
       "1246        0.0   0.0   0.0   0.0   0.0   0.0   0.0   0.0   0.0   0.0  \n",
       "1247        0.0   0.0   0.0   0.0   0.0   0.0   0.0   0.0   0.0   0.0  \n",
       "1248        0.0   0.0   0.0   0.0   0.0   0.0   0.0   0.0   0.0   0.0  \n",
       "1249        0.0   0.0   0.0   0.0   0.0   0.0   0.0   0.0   0.0   0.0  \n",
       "1250        0.0   0.0   0.0   0.0   0.0   0.0   0.0   0.0   0.0   0.0  \n",
       "\n",
       "[1251 rows x 2249 columns]"
      ],
      "text/html": "<div>\n<style scoped>\n    .dataframe tbody tr th:only-of-type {\n        vertical-align: middle;\n    }\n\n    .dataframe tbody tr th {\n        vertical-align: top;\n    }\n\n    .dataframe thead th {\n        text-align: right;\n    }\n</style>\n<table border=\"1\" class=\"dataframe\">\n  <thead>\n    <tr style=\"text-align: right;\">\n      <th></th>\n      <th>0</th>\n      <th>1</th>\n      <th>2</th>\n      <th>3</th>\n      <th>4</th>\n      <th>5</th>\n      <th>6</th>\n      <th>7</th>\n      <th>8</th>\n      <th>9</th>\n      <th>...</th>\n      <th>2239</th>\n      <th>2240</th>\n      <th>2241</th>\n      <th>2242</th>\n      <th>2243</th>\n      <th>2244</th>\n      <th>2245</th>\n      <th>2246</th>\n      <th>2247</th>\n      <th>2248</th>\n    </tr>\n    <tr>\n      <th>person_id</th>\n      <th></th>\n      <th></th>\n      <th></th>\n      <th></th>\n      <th></th>\n      <th></th>\n      <th></th>\n      <th></th>\n      <th></th>\n      <th></th>\n      <th></th>\n      <th></th>\n      <th></th>\n      <th></th>\n      <th></th>\n      <th></th>\n      <th></th>\n      <th></th>\n      <th></th>\n      <th></th>\n      <th></th>\n    </tr>\n  </thead>\n  <tbody>\n    <tr>\n      <th>0</th>\n      <td>0.0</td>\n      <td>0.0</td>\n      <td>0.0</td>\n      <td>0.0</td>\n      <td>0.0</td>\n      <td>0.0</td>\n      <td>0.0</td>\n      <td>0.0</td>\n      <td>0.0</td>\n      <td>0.0</td>\n      <td>...</td>\n      <td>0.0</td>\n      <td>0.0</td>\n      <td>0.0</td>\n      <td>0.0</td>\n      <td>0.0</td>\n      <td>0.0</td>\n      <td>0.0</td>\n      <td>0.0</td>\n      <td>0.0</td>\n      <td>0.0</td>\n    </tr>\n    <tr>\n      <th>1</th>\n      <td>0.0</td>\n      <td>0.0</td>\n      <td>0.0</td>\n      <td>0.0</td>\n      <td>0.0</td>\n      <td>0.0</td>\n      <td>0.0</td>\n      <td>0.0</td>\n      <td>0.0</td>\n      <td>0.0</td>\n      <td>...</td>\n      <td>0.0</td>\n      <td>0.0</td>\n      <td>0.0</td>\n      <td>0.0</td>\n      <td>0.0</td>\n      <td>0.0</td>\n      <td>0.0</td>\n      <td>0.0</td>\n      <td>0.0</td>\n      <td>0.0</td>\n    </tr>\n    <tr>\n      <th>2</th>\n      <td>0.0</td>\n      <td>0.0</td>\n      <td>0.0</td>\n      <td>0.0</td>\n      <td>0.0</td>\n      <td>0.0</td>\n      <td>0.0</td>\n      <td>0.0</td>\n      <td>0.0</td>\n      <td>0.0</td>\n      <td>...</td>\n      <td>0.0</td>\n      <td>0.0</td>\n      <td>0.0</td>\n      <td>0.0</td>\n      <td>0.0</td>\n      <td>0.0</td>\n      <td>0.0</td>\n      <td>0.0</td>\n      <td>0.0</td>\n      <td>0.0</td>\n    </tr>\n    <tr>\n      <th>3</th>\n      <td>0.0</td>\n      <td>0.0</td>\n      <td>0.0</td>\n      <td>0.0</td>\n      <td>0.0</td>\n      <td>0.0</td>\n      <td>1.0</td>\n      <td>0.0</td>\n      <td>0.0</td>\n      <td>0.0</td>\n      <td>...</td>\n      <td>0.0</td>\n      <td>0.0</td>\n      <td>0.0</td>\n      <td>0.0</td>\n      <td>0.0</td>\n      <td>0.0</td>\n      <td>0.0</td>\n      <td>0.0</td>\n      <td>0.0</td>\n      <td>0.0</td>\n    </tr>\n    <tr>\n      <th>4</th>\n      <td>0.0</td>\n      <td>0.0</td>\n      <td>0.0</td>\n      <td>0.0</td>\n      <td>0.0</td>\n      <td>0.0</td>\n      <td>0.0</td>\n      <td>0.0</td>\n      <td>0.0</td>\n      <td>0.0</td>\n      <td>...</td>\n      <td>0.0</td>\n      <td>0.0</td>\n      <td>0.0</td>\n      <td>0.0</td>\n      <td>0.0</td>\n      <td>0.0</td>\n      <td>0.0</td>\n      <td>0.0</td>\n      <td>0.0</td>\n      <td>0.0</td>\n    </tr>\n    <tr>\n      <th>...</th>\n      <td>...</td>\n      <td>...</td>\n      <td>...</td>\n      <td>...</td>\n      <td>...</td>\n      <td>...</td>\n      <td>...</td>\n      <td>...</td>\n      <td>...</td>\n      <td>...</td>\n      <td>...</td>\n      <td>...</td>\n      <td>...</td>\n      <td>...</td>\n      <td>...</td>\n      <td>...</td>\n      <td>...</td>\n      <td>...</td>\n      <td>...</td>\n      <td>...</td>\n      <td>...</td>\n    </tr>\n    <tr>\n      <th>1246</th>\n      <td>0.0</td>\n      <td>0.0</td>\n      <td>0.0</td>\n      <td>0.0</td>\n      <td>0.0</td>\n      <td>0.0</td>\n      <td>0.0</td>\n      <td>0.0</td>\n      <td>0.0</td>\n      <td>0.0</td>\n      <td>...</td>\n      <td>0.0</td>\n      <td>0.0</td>\n      <td>0.0</td>\n      <td>0.0</td>\n      <td>0.0</td>\n      <td>0.0</td>\n      <td>0.0</td>\n      <td>0.0</td>\n      <td>0.0</td>\n      <td>0.0</td>\n    </tr>\n    <tr>\n      <th>1247</th>\n      <td>0.0</td>\n      <td>0.0</td>\n      <td>0.0</td>\n      <td>0.0</td>\n      <td>0.0</td>\n      <td>0.0</td>\n      <td>0.0</td>\n      <td>0.0</td>\n      <td>1.0</td>\n      <td>0.0</td>\n      <td>...</td>\n      <td>0.0</td>\n      <td>0.0</td>\n      <td>0.0</td>\n      <td>0.0</td>\n      <td>0.0</td>\n      <td>0.0</td>\n      <td>0.0</td>\n      <td>0.0</td>\n      <td>0.0</td>\n      <td>0.0</td>\n    </tr>\n    <tr>\n      <th>1248</th>\n      <td>0.0</td>\n      <td>0.0</td>\n      <td>0.0</td>\n      <td>0.0</td>\n      <td>0.0</td>\n      <td>0.0</td>\n      <td>0.0</td>\n      <td>0.0</td>\n      <td>0.0</td>\n      <td>0.0</td>\n      <td>...</td>\n      <td>0.0</td>\n      <td>0.0</td>\n      <td>0.0</td>\n      <td>0.0</td>\n      <td>0.0</td>\n      <td>0.0</td>\n      <td>0.0</td>\n      <td>0.0</td>\n      <td>0.0</td>\n      <td>0.0</td>\n    </tr>\n    <tr>\n      <th>1249</th>\n      <td>0.0</td>\n      <td>0.0</td>\n      <td>0.0</td>\n      <td>0.0</td>\n      <td>0.0</td>\n      <td>0.0</td>\n      <td>0.0</td>\n      <td>0.0</td>\n      <td>0.0</td>\n      <td>0.0</td>\n      <td>...</td>\n      <td>0.0</td>\n      <td>0.0</td>\n      <td>0.0</td>\n      <td>0.0</td>\n      <td>0.0</td>\n      <td>0.0</td>\n      <td>0.0</td>\n      <td>0.0</td>\n      <td>0.0</td>\n      <td>0.0</td>\n    </tr>\n    <tr>\n      <th>1250</th>\n      <td>0.0</td>\n      <td>0.0</td>\n      <td>0.0</td>\n      <td>0.0</td>\n      <td>0.0</td>\n      <td>0.0</td>\n      <td>0.0</td>\n      <td>0.0</td>\n      <td>0.0</td>\n      <td>0.0</td>\n      <td>...</td>\n      <td>0.0</td>\n      <td>0.0</td>\n      <td>0.0</td>\n      <td>0.0</td>\n      <td>0.0</td>\n      <td>0.0</td>\n      <td>0.0</td>\n      <td>0.0</td>\n      <td>0.0</td>\n      <td>0.0</td>\n    </tr>\n  </tbody>\n</table>\n<p>1251 rows × 2249 columns</p>\n</div>"
     },
     "metadata": {},
     "execution_count": 38
    }
   ],
   "source": [
    "feature_df = etl.create_feature_df(cf_map, path=PATH)\n",
    "feature_df"
   ]
  },
  {
   "cell_type": "code",
   "execution_count": null,
   "metadata": {},
   "outputs": [],
   "source": []
  }
 ]
}